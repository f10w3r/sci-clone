{
 "cells": [
  {
   "cell_type": "code",
   "execution_count": 1,
   "id": "c4b291f1-753c-4d21-9081-50d8f34046ae",
   "metadata": {},
   "outputs": [],
   "source": [
    "afrom requests_html import HTMLSession"
   ]
  },
  {
   "cell_type": "code",
   "execution_count": 4,
   "id": "1147e085-fde8-437c-9410-a57085045c00",
   "metadata": {},
   "outputs": [],
   "source": [
    "url_scihub = \"https://sci-hub.wf/\" \n",
    "doi = \"10.1080/21620555.2022.2103667\"\n",
    "url_jstor_test = \"https://www.jstor.org/stable/27854031\""
   ]
  },
  {
   "cell_type": "code",
   "execution_count": 43,
   "id": "dfe9e02d-2c65-4216-8b46-347bb1b46c9f",
   "metadata": {},
   "outputs": [],
   "source": [
    "def get_url(session, url_scihub, query):\n",
    "    payload = {\"request\": query}\n",
    "    header = {\"user-agent\": \"Mozilla/5.0 (Macintosh; Intel Mac OS X 10_15_7)\"}\n",
    "    r = session.post(url_scihub, data=payload, headers=header)\n",
    "    if \"Sorry, sci-hub has not included this article yet\" in r.text:\n",
    "        return False, False\n",
    "    else:\n",
    "        element = r.html.xpath('//*[@id=\"buttons\"]/ul/li[2]/a', first=True)\n",
    "        url_pdf = element.attrs['onclick'][15:-1].replace('\\\\', '')\n",
    "        return url_pdf, f\"{'_'.join(r.url.split('/')[3:])}.pdf\""
   ]
  },
  {
   "cell_type": "code",
   "execution_count": 44,
   "id": "a3a47ba2-84bb-4f1c-9b80-6ad9069cd387",
   "metadata": {},
   "outputs": [
    {
     "data": {
      "text/plain": [
       "('https://sci.bban.top/pdf/10.2307/27854031.pdf?download=true',\n",
       " '10.2307_27854031.pdf')"
      ]
     },
     "execution_count": 44,
     "metadata": {},
     "output_type": "execute_result"
    }
   ],
   "source": [
    "get_url(session, url_scihub, url_jstor_test)"
   ]
  },
  {
   "cell_type": "code",
   "execution_count": 36,
   "id": "5b01ef8e-6d00-486d-9360-fb33051d88ae",
   "metadata": {},
   "outputs": [],
   "source": [
    "import re"
   ]
  },
  {
   "cell_type": "code",
   "execution_count": 2,
   "id": "3e3537ca-4c8c-4a06-a7e0-42f751a45d2e",
   "metadata": {},
   "outputs": [],
   "source": [
    "from urllib import request, parse"
   ]
  },
  {
   "cell_type": "code",
   "execution_count": 64,
   "id": "575b4719-f06b-46af-9fae-27a921fe2425",
   "metadata": {},
   "outputs": [],
   "source": [
    "def get_url(url_scihub, query):\n",
    "    payload = {\"request\": query}\n",
    "    query_string = parse.urlencode(payload)    \n",
    "    data = query_string.encode(\"ascii\")\n",
    "    r = request.Request(url_scihub, data, method='POST')\n",
    "    r.add_header(\"user-agent\", \"Mozilla/5.0 (Macintosh; Intel Mac OS X 10_15_7)\")\n",
    "    response = request.urlopen(r)\n",
    "    response_text = response.read().decode()\n",
    "    if \"Sorry, sci-hub has not included this article yet\" in response_text:\n",
    "        return False, False\n",
    "    else:\n",
    "        url_pdf = re.search(\"location.href='(.+)'\", response_text).group(1).replace(\"\\\\\", \"\")\n",
    "        return url_pdf, re.search(\"pdf/(.+)\\?\", url_pdf).group(1).replace(\"/\", \"_\")"
   ]
  },
  {
   "cell_type": "code",
   "execution_count": 51,
   "id": "7246daf1-f0cc-408f-859f-3861d3f551b5",
   "metadata": {},
   "outputs": [],
   "source": [
    "r = get_url(url_scihub, doi)"
   ]
  },
  {
   "cell_type": "code",
   "execution_count": 52,
   "id": "93b2fef1-be5d-4bef-943e-b72665589020",
   "metadata": {},
   "outputs": [
    {
     "data": {
      "text/plain": [
       "(False, False)"
      ]
     },
     "execution_count": 52,
     "metadata": {},
     "output_type": "execute_result"
    }
   ],
   "source": [
    "r"
   ]
  },
  {
   "cell_type": "code",
   "execution_count": 65,
   "id": "7ce7b237-52e6-4b72-b864-c7338d4a5add",
   "metadata": {},
   "outputs": [],
   "source": [
    "r = get_url(url_scihub, url_jstor_test)"
   ]
  },
  {
   "cell_type": "code",
   "execution_count": 66,
   "id": "6a74f83b-fb1c-4ac4-beca-3ebab3fec7ee",
   "metadata": {},
   "outputs": [
    {
     "data": {
      "text/plain": [
       "('https://sci.bban.top/pdf/10.2307/27854031.pdf?download=true',\n",
       " '10.2307_27854031.pdf')"
      ]
     },
     "execution_count": 66,
     "metadata": {},
     "output_type": "execute_result"
    }
   ],
   "source": [
    "r"
   ]
  },
  {
   "cell_type": "code",
   "execution_count": 88,
   "id": "67e5dda2-7c70-4bb0-9733-8a9c63fa2a01",
   "metadata": {},
   "outputs": [
    {
     "data": {
      "text/plain": [
       "[]"
      ]
     },
     "execution_count": 88,
     "metadata": {},
     "output_type": "execute_result"
    }
   ],
   "source": [
    "re.findall(\"s\", query)"
   ]
  },
  {
   "cell_type": "code",
   "execution_count": 87,
   "id": "d8b804f7-8ace-4e44-8376-4ef12b125fdc",
   "metadata": {},
   "outputs": [
    {
     "data": {
      "text/plain": [
       "False"
      ]
     },
     "execution_count": 87,
     "metadata": {},
     "output_type": "execute_result"
    }
   ],
   "source": [
    "len(re.findall(\"s\", query)) == 1"
   ]
  },
  {
   "cell_type": "code",
   "execution_count": 83,
   "id": "50579dd7-e355-4dcb-9e15-6a8b36632872",
   "metadata": {},
   "outputs": [],
   "source": [
    "url_libgen = \"http://libgen.rs/scimag/\"\n",
    "query = \"10.2307/27854031\""
   ]
  },
  {
   "cell_type": "code",
   "execution_count": null,
   "id": "b6931bb3-6c92-47b8-8456-f0d8fb050207",
   "metadata": {},
   "outputs": [],
   "source": [
    "if \"Sorry, sci-hub has not included this article yet\" in response_text:\n",
    "        file_url, file_name = False, False\n",
    "    else:\n",
    "        file_url = re.search(\"location.href='(.+)'\", response_text).group(1).replace(\"\\\\\", \"\")\n",
    "        file_name = re.search(\"pdf/(.+)\\?\", file_url).group(1).replace(\"/\", \"_\")\n",
    "    if file_url:\n",
    "        req = request.Request(file_url, method='GET')\n",
    "        req.add_header(\"user-agent\", \"Mozilla/5.0 (Macintosh; Intel Mac OS X 10_15_7)\")\n",
    "        response = request.urlopen(req, timeout=60)\n",
    "        with open(path.join(save_to, file_name), 'b+w') as f:\n",
    "            f.write(response.read())\n",
    "        return True\n",
    "    else:\n",
    "        return False"
   ]
  },
  {
   "cell_type": "code",
   "execution_count": 178,
   "id": "b61cb8b0-692d-477c-9632-501609dd881c",
   "metadata": {
    "tags": []
   },
   "outputs": [],
   "source": [
    "def get_pdf_libgen(url_libgen, query):\n",
    "    payload = {\"q\": query}\n",
    "    query_string = parse.urlencode(payload)\n",
    "    print(query_string)\n",
    "    req = request.Request(url_libgen + '?' + query_string, method='GET')\n",
    "    req.add_header(\"user-agent\", \"Mozilla/5.0 (Macintosh; Intel Mac OS X 10_15_7)\")\n",
    "    print(req.full_url)\n",
    "    response = request.urlopen(req, timeout=60)\n",
    "    response_text = response.read().decode()\n",
    "    results = re.findall(\"<tr>([\\S\\s]+)</tr>\", response_text)\n",
    "    if not results:\n",
    "        return False\n",
    "    else:\n",
    "        for r in results:\n",
    "            doi = re.findall(\"DOI\\: ([\\s\\S]+)</p>\\t\", r)\n",
    "            print(doi)\n",
    "            if doi: doi = doi[0]\n",
    "            print(doi)\n",
    "            if (query in doi) ^ (doi[0] in query):\n",
    "                mirrors = re.search('<ul class=\"record_mirrors\">([\\s\\S]+)', result).group()\n",
    "                if mirrors: urls = re.findall('href=\"(\\S+)\"', mirrors)\n",
    "                if urls: url_liblol = [i for i in urls if \"library.lol\" in i][0]\n",
    "                item_done = \n",
    "                return r\n",
    "    return results"
   ]
  },
  {
   "cell_type": "code",
   "execution_count": 193,
   "id": "602dd0d1-ff95-4b39-9663-166ab299a8df",
   "metadata": {},
   "outputs": [
    {
     "name": "stdout",
     "output_type": "stream",
     "text": [
      "Completed: [==============================] 100%"
     ]
    }
   ],
   "source": [
    "import time\n",
    "import sys\n",
    "\n",
    "total = 1007  # total number to reach\n",
    "bar_length = 30  # should be less than 100\n",
    "for i in range(total+1):\n",
    "    percent = 100.0*i/total\n",
    "    sys.stdout.write('\\r')\n",
    "    sys.stdout.write(\"Completed: [{:{}}] {:>3}%\"\n",
    "                     .format('='*int(percent/(100.0/bar_length)), bar_length, int(percent)))\n",
    "    sys.stdout.flush()\n",
    "    time.sleep(0.002)"
   ]
  },
  {
   "cell_type": "code",
   "execution_count": 179,
   "id": "c3e6b464-3399-45a6-95b4-b54da46cb0a4",
   "metadata": {},
   "outputs": [
    {
     "name": "stdout",
     "output_type": "stream",
     "text": [
      "q=10.1177%2F0894439319886019\n",
      "http://libgen.rs/scimag/?q=10.1177%2F0894439319886019\n",
      "['10.1177/0894439319886019']\n",
      "10.1177/0894439319886019\n"
     ]
    }
   ],
   "source": [
    "result = get_pdf_libgen(url_libgen, query=\"10.1177/0894439319886019\")"
   ]
  },
  {
   "cell_type": "code",
   "execution_count": 186,
   "id": "09c865d4-5202-4d4d-9a91-105e0ccb59bc",
   "metadata": {},
   "outputs": [
    {
     "data": {
      "text/plain": [
       "['https://sci-hub.se/10.1177/0894439319886019',\n",
       " 'http://library.lol/scimag/10.1177/0894439319886019',\n",
       " 'https://cdn1.booksdl.org/ads.php?doi=10.1177/0894439319886019',\n",
       " 'https://booksc.org/s/?q=10.1177/0894439319886019']"
      ]
     },
     "execution_count": 186,
     "metadata": {},
     "output_type": "execute_result"
    }
   ],
   "source": [
    "mirrors = re.search('<ul class=\"record_mirrors\">([\\s\\S]+)', result).group()\n",
    "re.findall('href=\"(\\S+)\"', mirrors)"
   ]
  },
  {
   "cell_type": "code",
   "execution_count": 182,
   "id": "97044def-f206-4019-8c90-85c5effcaf8e",
   "metadata": {},
   "outputs": [
    {
     "data": {
      "text/plain": [
       "['10.1177/0894439319886019']"
      ]
     },
     "execution_count": 182,
     "metadata": {},
     "output_type": "execute_result"
    }
   ],
   "source": [
    "re.findall(\"DOI: ([\\s\\S]+)</p>\\t\", result)"
   ]
  },
  {
   "cell_type": "code",
   "execution_count": 152,
   "id": "2a96c49d-9688-470e-8b9b-e99b26d04cf5",
   "metadata": {},
   "outputs": [
    {
     "data": {
      "text/plain": [
       "False"
      ]
     },
     "execution_count": 152,
     "metadata": {},
     "output_type": "execute_result"
    }
   ],
   "source": [
    "not result"
   ]
  },
  {
   "cell_type": "code",
   "execution_count": 146,
   "id": "5b2fbe30-27ee-4523-bed3-416456ca132b",
   "metadata": {},
   "outputs": [
    {
     "name": "stdout",
     "output_type": "stream",
     "text": [
      "['\\n\\t<td style=\"width:15em\">\\t\\t\\t\\t\\t\\t<a href=\"/scimag/?q=li+fumin+Trails+of+Data+Three+Cases+for+Collecting+Web+Information+for+Social+Science+Research&sort=author:a\" title=\"sort\">Author(s) <span class=\"sort_direction\">&varr;</span></a>\\n\\t\\t\\t</td>\\n\\t<td style=\"\">\\t\\t\\t\\t\\t\\t<a href=\"/scimag/?q=li+fumin+Trails+of+Data+Three+Cases+for+Collecting+Web+Information+for+Social+Science+Research&sort=title:a\" title=\"sort\">Article <span class=\"sort_direction\">&varr;</span></a>\\n\\t\\t\\t</td>\\n\\t<td>\\t\\t\\t\\t\\t\\t<a href=\"/scimag/?q=li+fumin+Trails+of+Data+Three+Cases+for+Collecting+Web+Information+for+Social+Science+Research&sort=journal:a\" title=\"sort\">Journal <span class=\"sort_direction\">&varr;</span></a>\\n\\t\\t\\t</td>\\n\\t<td style=\"\">File</td>\\n\\t<td style=\"width:10%\">Mirrors</td>\\n</tr></thead>\\n<tbody>\\n<tr>\\n\\t<td>Li, Fumin; Zhou, Yisu; Cai, Tianji </td>\\n\\t<td>\\n\\t\\t<p><a href=\"/scimag/10.1177%2F0894439319886019\">Trails of Data: Three Cases for Collecting Web Information for Social Science Research</a></p>\\n\\t\\t<p>DOI: 10.1177/0894439319886019</p>\\t</td>\\n\\t<td><p><a href=\"/scimag/journals/22345\">Social Science Computer Review</a><p> (2019)</p></td>\\n\\t<td>467&nbsp;Kb<br><a href=\"/scimag/librarian/form.php?doi=10.1177%2F0894439319886019\" title=\"edit metadata\">[edit]</a></td>\\n\\t<td><ul class=\"record_mirrors\"><li><a href=\"https://sci-hub.se/10.1177/0894439319886019\">Sci-Hub</a></li><li><a href=\"http://library.lol/scimag/10.1177/0894439319886019\">Libgen.rs</a></li><li><a href=\"https://cdn1.booksdl.org/ads.php?doi=10.1177/0894439319886019\">Libgen.gs</a></li><li><a href=\"https://booksc.org/s/?q=10.1177/0894439319886019\">BookSC</a></li></ul></td>\\n']\n"
     ]
    }
   ],
   "source": [
    "print(result)"
   ]
  },
  {
   "cell_type": "code",
   "execution_count": 63,
   "id": "be4e8d53-787b-4088-a17e-b0a919d8f795",
   "metadata": {},
   "outputs": [
    {
     "data": {
      "text/plain": [
       "'10.2307_27854031.pdf'"
      ]
     },
     "execution_count": 63,
     "metadata": {},
     "output_type": "execute_result"
    }
   ],
   "source": [
    "re.search(\"pdf/(.+)\\?\", 'https://sci.bban.top/pdf/10.2307/27854031.pdf?download=true').group(1).replace(\"/\", \"_\")\n"
   ]
  },
  {
   "cell_type": "code",
   "execution_count": 45,
   "id": "c0bae3e9-43af-4920-b67a-835fadd93c80",
   "metadata": {},
   "outputs": [
    {
     "data": {
      "text/plain": [
       "'https://sci.bban.top/pdf/10.2307/27854031.pdf?download=true'"
      ]
     },
     "execution_count": 45,
     "metadata": {},
     "output_type": "execute_result"
    }
   ],
   "source": [
    "re.search(\"location.href='(.+)'\", r).group(1).replace(\"\\\\\", \"\")"
   ]
  },
  {
   "cell_type": "code",
   "execution_count": 33,
   "id": "ff97a81c-930a-4eb5-808a-bd5b2a6f6b23",
   "metadata": {},
   "outputs": [
    {
     "data": {
      "text/plain": [
       "str"
      ]
     },
     "execution_count": 33,
     "metadata": {},
     "output_type": "execute_result"
    }
   ],
   "source": [
    "type(r)"
   ]
  },
  {
   "cell_type": "code",
   "execution_count": 188,
   "id": "c83dba1a-4faa-4fb5-8d83-99942abc5548",
   "metadata": {
    "tags": []
   },
   "outputs": [
    {
     "data": {
      "text/plain": [
       "True"
      ]
     },
     "execution_count": 188,
     "metadata": {},
     "output_type": "execute_result"
    }
   ],
   "source": [
    "True ^ False"
   ]
  },
  {
   "cell_type": "code",
   "execution_count": 189,
   "id": "b7a89cad-2747-421a-8fe7-e0ae1183001b",
   "metadata": {},
   "outputs": [
    {
     "data": {
      "text/plain": [
       "True"
      ]
     },
     "execution_count": 189,
     "metadata": {},
     "output_type": "execute_result"
    }
   ],
   "source": [
    "False ^ True"
   ]
  },
  {
   "cell_type": "code",
   "execution_count": 190,
   "id": "18af4b4a-e915-43ae-beed-0920681abd92",
   "metadata": {},
   "outputs": [
    {
     "data": {
      "text/plain": [
       "False"
      ]
     },
     "execution_count": 190,
     "metadata": {},
     "output_type": "execute_result"
    }
   ],
   "source": [
    "False ^ False"
   ]
  },
  {
   "cell_type": "code",
   "execution_count": 191,
   "id": "3a32531b-f973-4c62-b1c4-a2f0bd3e18c5",
   "metadata": {},
   "outputs": [
    {
     "data": {
      "text/plain": [
       "False"
      ]
     },
     "execution_count": 191,
     "metadata": {},
     "output_type": "execute_result"
    }
   ],
   "source": [
    "True ^ True"
   ]
  },
  {
   "cell_type": "code",
   "execution_count": null,
   "id": "96534c8b-4438-4a45-95c8-732eaa1d3fd9",
   "metadata": {},
   "outputs": [],
   "source": [
    "r = session.post(url_scihub, data=payload, headers=header)\n",
    "    if \"Sorry, sci-hub has not included this article yet\" in r.text:\n",
    "        return False, False\n",
    "    else:\n",
    "        element = r.html.xpath('//*[@id=\"buttons\"]/ul/li[2]/a', first=True)\n",
    "        url_pdf = element.attrs['onclick'][15:-1].replace('\\\\', '')\n",
    "        return url_pdf, f\"{'_'.join(r.url.split('/')[3:])}.pdf\""
   ]
  },
  {
   "cell_type": "code",
   "execution_count": 60,
   "id": "dba46672-4d9b-44f0-9250-7c1a68c29bb2",
   "metadata": {},
   "outputs": [],
   "source": [
    "def get_list(file):\n",
    "    with open(file, 'r') as f:\n",
    "        for line in f.readlines():\n",
    "            yield line.strip()"
   ]
  },
  {
   "cell_type": "code",
   "execution_count": 63,
   "id": "ecfc94f2-9267-48fc-8311-ea2a058c2e2f",
   "metadata": {},
   "outputs": [
    {
     "data": {
      "text/plain": [
       "[2012]"
      ]
     },
     "execution_count": 63,
     "metadata": {},
     "output_type": "execute_result"
    }
   ],
   "source": [
    "list(range(2012, 2012+1))"
   ]
  },
  {
   "cell_type": "code",
   "execution_count": 61,
   "id": "b92c0e85-fa40-487e-8997-b6d94581501a",
   "metadata": {},
   "outputs": [
    {
     "data": {
      "text/plain": [
       "['10.1016/j.compbiomed.2021.104499',\n",
       " '10.1016/j.ssresearch.2016.04.017',\n",
       " '10.1109/ICAwST.2019.8923186',\n",
       " '10.1016/j.engappai.2012.08.002',\n",
       " '10.1016/j.patrec.2014.09.008',\n",
       " '10.1080/10670564.2020.1790899']"
      ]
     },
     "execution_count": 61,
     "metadata": {},
     "output_type": "execute_result"
    }
   ],
   "source": [
    "[i for i in get_list(\"./examples/doi.txt\")]"
   ]
  },
  {
   "cell_type": "code",
   "execution_count": 48,
   "id": "ec97fbc7-56fe-4a41-b2f7-ce1e86c8d7d7",
   "metadata": {},
   "outputs": [
    {
     "name": "stdout",
     "output_type": "stream",
     "text": [
      "Sorry, sci-hub has not included this article yet\n"
     ]
    }
   ],
   "source": [
    "file_url, file_name = get_url(session, url_scihub, doi)\n",
    "if file_url:\n",
    "    r = session.get(file_url)\n",
    "    with open(file_name,'wb') as output_file:\n",
    "        output_file.write(r.content)\n",
    "else:\n",
    "    print(\"Sorry, sci-hub has not included this article yet.\")"
   ]
  },
  {
   "cell_type": "code",
   "execution_count": 15,
   "id": "113610ad-e5e2-4514-9536-ccd5249f36da",
   "metadata": {},
   "outputs": [
    {
     "name": "stderr",
     "output_type": "stream",
     "text": [
      "IOPub data rate exceeded.\n",
      "The Jupyter server will temporarily stop sending output\n",
      "to the client in order to avoid crashing it.\n",
      "To change this limit, set the config variable\n",
      "`--ServerApp.iopub_data_rate_limit`.\n",
      "\n",
      "Current values:\n",
      "ServerApp.iopub_data_rate_limit=1000000.0 (bytes/sec)\n",
      "ServerApp.rate_limit_window=3.0 (secs)\n",
      "\n"
     ]
    }
   ],
   "source": [
    "print(r.text)"
   ]
  },
  {
   "cell_type": "code",
   "execution_count": 50,
   "id": "1c421ad3-66b0-4358-8b3d-2ca23954befe",
   "metadata": {},
   "outputs": [
    {
     "ename": "ModuleNotFoundError",
     "evalue": "No module named 'typer'",
     "output_type": "error",
     "traceback": [
      "\u001b[0;31m---------------------------------------------------------------------------\u001b[0m",
      "\u001b[0;31mModuleNotFoundError\u001b[0m                       Traceback (most recent call last)",
      "Input \u001b[0;32mIn [50]\u001b[0m, in \u001b[0;36m<cell line: 1>\u001b[0;34m()\u001b[0m\n\u001b[0;32m----> 1\u001b[0m \u001b[38;5;28;01mimport\u001b[39;00m \u001b[38;5;21;01mtyper\u001b[39;00m\n",
      "\u001b[0;31mModuleNotFoundError\u001b[0m: No module named 'typer'"
     ]
    }
   ],
   "source": [
    "import typer"
   ]
  },
  {
   "cell_type": "code",
   "execution_count": 51,
   "id": "256b23b8-bda8-4d8d-bbbc-209eee110f48",
   "metadata": {},
   "outputs": [
    {
     "name": "stdout",
     "output_type": "stream",
     "text": [
      "Collecting typer\n",
      "  Downloading typer-0.6.1-py3-none-any.whl (38 kB)\n",
      "Requirement already satisfied: click<9.0.0,>=7.1.1 in /Users/lifumin/mambaforge/lib/python3.9/site-packages (from typer) (8.1.3)\n",
      "Installing collected packages: typer\n",
      "Successfully installed typer-0.6.1\n"
     ]
    }
   ],
   "source": [
    "!pip install typer"
   ]
  },
  {
   "cell_type": "code",
   "execution_count": 64,
   "id": "8a5d1fd8-aff8-4242-b854-16ce756de4f4",
   "metadata": {},
   "outputs": [],
   "source": [
    "s = [1.3, 2.2, 0.4, 0.7, 0.1, 1.2, 1.3, 2.1]"
   ]
  },
  {
   "cell_type": "code",
   "execution_count": 65,
   "id": "f8647070-d902-4e93-9985-234cd3d2f9d5",
   "metadata": {},
   "outputs": [
    {
     "data": {
      "text/plain": [
       "9"
      ]
     },
     "execution_count": 65,
     "metadata": {},
     "output_type": "execute_result"
    }
   ],
   "source": [
    "3**2"
   ]
  },
  {
   "cell_type": "code",
   "execution_count": 68,
   "id": "4e6aa08f-4e42-4c79-873f-64cbdaddcd18",
   "metadata": {},
   "outputs": [],
   "source": [
    "import numpy as np"
   ]
  },
  {
   "cell_type": "code",
   "execution_count": 69,
   "id": "1f718cf9-d6dd-43c8-8309-f25176c4e51a",
   "metadata": {},
   "outputs": [],
   "source": [
    "def f(s, i):\n",
    "    p2 = (s[i] - np.mean(s))**2\n",
    "    return (1/len(s)) * p2"
   ]
  },
  {
   "cell_type": "code",
   "execution_count": 71,
   "id": "3bbc9776-0b4f-4348-ae6f-86d11d182b1f",
   "metadata": {},
   "outputs": [
    {
     "data": {
      "text/plain": [
       "0.4898437500000001"
      ]
     },
     "execution_count": 71,
     "metadata": {},
     "output_type": "execute_result"
    }
   ],
   "source": [
    "sum([f(s, i) for i in range(len(s))])"
   ]
  },
  {
   "cell_type": "code",
   "execution_count": 72,
   "id": "9ec7b679-351e-48ed-9887-826751fdd38c",
   "metadata": {},
   "outputs": [
    {
     "data": {
      "text/plain": [
       "0.48986000999999996"
      ]
     },
     "execution_count": 72,
     "metadata": {},
     "output_type": "execute_result"
    }
   ],
   "source": [
    "0.6999**2"
   ]
  },
  {
   "cell_type": "code",
   "execution_count": 74,
   "id": "75eccd5c-8167-40f4-93d1-eebe02e7c22d",
   "metadata": {},
   "outputs": [
    {
     "data": {
      "text/plain": [
       "[1, 2, 3]"
      ]
     },
     "execution_count": 74,
     "metadata": {},
     "output_type": "execute_result"
    }
   ],
   "source": [
    "a = [] \n",
    "a += [1,2,3]\n",
    "a"
   ]
  },
  {
   "cell_type": "code",
   "execution_count": 80,
   "id": "8179d550-547c-481a-954c-fe5539ae1b85",
   "metadata": {},
   "outputs": [],
   "source": [
    "def get_issn_list(session, year, issn):\n",
    "        \"\"\"\n",
    "            get DOI list by year from CrossRef.org\n",
    "        \"\"\"\n",
    "        url = f\"https://api.crossref.org/journals/{issn}/works\"\n",
    "        cursor = '*'\n",
    "        doi_list = list()\n",
    "        year = str(year)\n",
    "        while True:\n",
    "            params = {\n",
    "                \"rows\": 1000,\n",
    "                \"cursor\": cursor,\n",
    "                \"filter\": f\"from-pub-date:{year}-01,until-pub-date:{year}-12\"\n",
    "            }\n",
    "            r = session.get(url, params=params, \n",
    "                            headers={\"user-agent\": \"Mozilla/5.0 (Macintosh; Intel Mac OS X 10_15_7)\"},\n",
    "                            timeout=30)\n",
    "            j = json.loads(r.text)\n",
    "            if len(j['message']['items']):\n",
    "                doi_list.extend(j['message']['items'])\n",
    "                cursor = j['message']['next-cursor']\n",
    "            else:\n",
    "                break\n",
    "        return doi_list"
   ]
  },
  {
   "cell_type": "code",
   "execution_count": 9,
   "id": "920f16df-3dca-46c0-a93c-bd381ffc7c59",
   "metadata": {},
   "outputs": [],
   "source": [
    "from requests_html import HTMLSession\n",
    "session = HTMLSession()"
   ]
  },
  {
   "cell_type": "code",
   "execution_count": null,
   "id": "33c02b5d-90d5-4659-a952-db57c2d7f5bd",
   "metadata": {},
   "outputs": [],
   "source": [
    "session.get(headers = {\"user-agent\": \"Mozilla/5.0 (Macintosh; Intel Mac OS X 10_15_7)\"})"
   ]
  },
  {
   "cell_type": "code",
   "execution_count": 81,
   "id": "0a7038b0-d46b-4b2f-b36c-cac20325b406",
   "metadata": {
    "collapsed": true,
    "jupyter": {
     "outputs_hidden": true
    },
    "tags": []
   },
   "outputs": [
    {
     "ename": "ReadTimeout",
     "evalue": "HTTPSConnectionPool(host='api.crossref.org', port=443): Read timed out. (read timeout=30)",
     "output_type": "error",
     "traceback": [
      "\u001b[0;31m---------------------------------------------------------------------------\u001b[0m",
      "\u001b[0;31mtimeout\u001b[0m                                   Traceback (most recent call last)",
      "File \u001b[0;32m~/mambaforge/lib/python3.9/site-packages/urllib3/connectionpool.py:449\u001b[0m, in \u001b[0;36mHTTPConnectionPool._make_request\u001b[0;34m(self, conn, method, url, timeout, chunked, **httplib_request_kw)\u001b[0m\n\u001b[1;32m    445\u001b[0m         \u001b[38;5;28;01mexcept\u001b[39;00m \u001b[38;5;167;01mBaseException\u001b[39;00m \u001b[38;5;28;01mas\u001b[39;00m e:\n\u001b[1;32m    446\u001b[0m             \u001b[38;5;66;03m# Remove the TypeError from the exception chain in\u001b[39;00m\n\u001b[1;32m    447\u001b[0m             \u001b[38;5;66;03m# Python 3 (including for exceptions like SystemExit).\u001b[39;00m\n\u001b[1;32m    448\u001b[0m             \u001b[38;5;66;03m# Otherwise it looks like a bug in the code.\u001b[39;00m\n\u001b[0;32m--> 449\u001b[0m             \u001b[43msix\u001b[49m\u001b[38;5;241;43m.\u001b[39;49m\u001b[43mraise_from\u001b[49m\u001b[43m(\u001b[49m\u001b[43me\u001b[49m\u001b[43m,\u001b[49m\u001b[43m \u001b[49m\u001b[38;5;28;43;01mNone\u001b[39;49;00m\u001b[43m)\u001b[49m\n\u001b[1;32m    450\u001b[0m \u001b[38;5;28;01mexcept\u001b[39;00m (SocketTimeout, BaseSSLError, SocketError) \u001b[38;5;28;01mas\u001b[39;00m e:\n",
      "File \u001b[0;32m<string>:3\u001b[0m, in \u001b[0;36mraise_from\u001b[0;34m(value, from_value)\u001b[0m\n",
      "File \u001b[0;32m~/mambaforge/lib/python3.9/site-packages/urllib3/connectionpool.py:444\u001b[0m, in \u001b[0;36mHTTPConnectionPool._make_request\u001b[0;34m(self, conn, method, url, timeout, chunked, **httplib_request_kw)\u001b[0m\n\u001b[1;32m    443\u001b[0m \u001b[38;5;28;01mtry\u001b[39;00m:\n\u001b[0;32m--> 444\u001b[0m     httplib_response \u001b[38;5;241m=\u001b[39m \u001b[43mconn\u001b[49m\u001b[38;5;241;43m.\u001b[39;49m\u001b[43mgetresponse\u001b[49m\u001b[43m(\u001b[49m\u001b[43m)\u001b[49m\n\u001b[1;32m    445\u001b[0m \u001b[38;5;28;01mexcept\u001b[39;00m \u001b[38;5;167;01mBaseException\u001b[39;00m \u001b[38;5;28;01mas\u001b[39;00m e:\n\u001b[1;32m    446\u001b[0m     \u001b[38;5;66;03m# Remove the TypeError from the exception chain in\u001b[39;00m\n\u001b[1;32m    447\u001b[0m     \u001b[38;5;66;03m# Python 3 (including for exceptions like SystemExit).\u001b[39;00m\n\u001b[1;32m    448\u001b[0m     \u001b[38;5;66;03m# Otherwise it looks like a bug in the code.\u001b[39;00m\n",
      "File \u001b[0;32m~/mambaforge/lib/python3.9/http/client.py:1377\u001b[0m, in \u001b[0;36mHTTPConnection.getresponse\u001b[0;34m(self)\u001b[0m\n\u001b[1;32m   1376\u001b[0m \u001b[38;5;28;01mtry\u001b[39;00m:\n\u001b[0;32m-> 1377\u001b[0m     \u001b[43mresponse\u001b[49m\u001b[38;5;241;43m.\u001b[39;49m\u001b[43mbegin\u001b[49m\u001b[43m(\u001b[49m\u001b[43m)\u001b[49m\n\u001b[1;32m   1378\u001b[0m \u001b[38;5;28;01mexcept\u001b[39;00m \u001b[38;5;167;01mConnectionError\u001b[39;00m:\n",
      "File \u001b[0;32m~/mambaforge/lib/python3.9/http/client.py:320\u001b[0m, in \u001b[0;36mHTTPResponse.begin\u001b[0;34m(self)\u001b[0m\n\u001b[1;32m    319\u001b[0m \u001b[38;5;28;01mwhile\u001b[39;00m \u001b[38;5;28;01mTrue\u001b[39;00m:\n\u001b[0;32m--> 320\u001b[0m     version, status, reason \u001b[38;5;241m=\u001b[39m \u001b[38;5;28;43mself\u001b[39;49m\u001b[38;5;241;43m.\u001b[39;49m\u001b[43m_read_status\u001b[49m\u001b[43m(\u001b[49m\u001b[43m)\u001b[49m\n\u001b[1;32m    321\u001b[0m     \u001b[38;5;28;01mif\u001b[39;00m status \u001b[38;5;241m!=\u001b[39m CONTINUE:\n",
      "File \u001b[0;32m~/mambaforge/lib/python3.9/http/client.py:281\u001b[0m, in \u001b[0;36mHTTPResponse._read_status\u001b[0;34m(self)\u001b[0m\n\u001b[1;32m    280\u001b[0m \u001b[38;5;28;01mdef\u001b[39;00m \u001b[38;5;21m_read_status\u001b[39m(\u001b[38;5;28mself\u001b[39m):\n\u001b[0;32m--> 281\u001b[0m     line \u001b[38;5;241m=\u001b[39m \u001b[38;5;28mstr\u001b[39m(\u001b[38;5;28;43mself\u001b[39;49m\u001b[38;5;241;43m.\u001b[39;49m\u001b[43mfp\u001b[49m\u001b[38;5;241;43m.\u001b[39;49m\u001b[43mreadline\u001b[49m\u001b[43m(\u001b[49m\u001b[43m_MAXLINE\u001b[49m\u001b[43m \u001b[49m\u001b[38;5;241;43m+\u001b[39;49m\u001b[43m \u001b[49m\u001b[38;5;241;43m1\u001b[39;49m\u001b[43m)\u001b[49m, \u001b[38;5;124m\"\u001b[39m\u001b[38;5;124miso-8859-1\u001b[39m\u001b[38;5;124m\"\u001b[39m)\n\u001b[1;32m    282\u001b[0m     \u001b[38;5;28;01mif\u001b[39;00m \u001b[38;5;28mlen\u001b[39m(line) \u001b[38;5;241m>\u001b[39m _MAXLINE:\n",
      "File \u001b[0;32m~/mambaforge/lib/python3.9/socket.py:704\u001b[0m, in \u001b[0;36mSocketIO.readinto\u001b[0;34m(self, b)\u001b[0m\n\u001b[1;32m    703\u001b[0m \u001b[38;5;28;01mtry\u001b[39;00m:\n\u001b[0;32m--> 704\u001b[0m     \u001b[38;5;28;01mreturn\u001b[39;00m \u001b[38;5;28;43mself\u001b[39;49m\u001b[38;5;241;43m.\u001b[39;49m\u001b[43m_sock\u001b[49m\u001b[38;5;241;43m.\u001b[39;49m\u001b[43mrecv_into\u001b[49m\u001b[43m(\u001b[49m\u001b[43mb\u001b[49m\u001b[43m)\u001b[49m\n\u001b[1;32m    705\u001b[0m \u001b[38;5;28;01mexcept\u001b[39;00m timeout:\n",
      "File \u001b[0;32m~/mambaforge/lib/python3.9/ssl.py:1241\u001b[0m, in \u001b[0;36mSSLSocket.recv_into\u001b[0;34m(self, buffer, nbytes, flags)\u001b[0m\n\u001b[1;32m   1238\u001b[0m         \u001b[38;5;28;01mraise\u001b[39;00m \u001b[38;5;167;01mValueError\u001b[39;00m(\n\u001b[1;32m   1239\u001b[0m           \u001b[38;5;124m\"\u001b[39m\u001b[38;5;124mnon-zero flags not allowed in calls to recv_into() on \u001b[39m\u001b[38;5;132;01m%s\u001b[39;00m\u001b[38;5;124m\"\u001b[39m \u001b[38;5;241m%\u001b[39m\n\u001b[1;32m   1240\u001b[0m           \u001b[38;5;28mself\u001b[39m\u001b[38;5;241m.\u001b[39m\u001b[38;5;18m__class__\u001b[39m)\n\u001b[0;32m-> 1241\u001b[0m     \u001b[38;5;28;01mreturn\u001b[39;00m \u001b[38;5;28;43mself\u001b[39;49m\u001b[38;5;241;43m.\u001b[39;49m\u001b[43mread\u001b[49m\u001b[43m(\u001b[49m\u001b[43mnbytes\u001b[49m\u001b[43m,\u001b[49m\u001b[43m \u001b[49m\u001b[43mbuffer\u001b[49m\u001b[43m)\u001b[49m\n\u001b[1;32m   1242\u001b[0m \u001b[38;5;28;01melse\u001b[39;00m:\n",
      "File \u001b[0;32m~/mambaforge/lib/python3.9/ssl.py:1099\u001b[0m, in \u001b[0;36mSSLSocket.read\u001b[0;34m(self, len, buffer)\u001b[0m\n\u001b[1;32m   1098\u001b[0m \u001b[38;5;28;01mif\u001b[39;00m buffer \u001b[38;5;129;01mis\u001b[39;00m \u001b[38;5;129;01mnot\u001b[39;00m \u001b[38;5;28;01mNone\u001b[39;00m:\n\u001b[0;32m-> 1099\u001b[0m     \u001b[38;5;28;01mreturn\u001b[39;00m \u001b[38;5;28;43mself\u001b[39;49m\u001b[38;5;241;43m.\u001b[39;49m\u001b[43m_sslobj\u001b[49m\u001b[38;5;241;43m.\u001b[39;49m\u001b[43mread\u001b[49m\u001b[43m(\u001b[49m\u001b[38;5;28;43mlen\u001b[39;49m\u001b[43m,\u001b[49m\u001b[43m \u001b[49m\u001b[43mbuffer\u001b[49m\u001b[43m)\u001b[49m\n\u001b[1;32m   1100\u001b[0m \u001b[38;5;28;01melse\u001b[39;00m:\n",
      "\u001b[0;31mtimeout\u001b[0m: The read operation timed out",
      "\nDuring handling of the above exception, another exception occurred:\n",
      "\u001b[0;31mReadTimeoutError\u001b[0m                          Traceback (most recent call last)",
      "File \u001b[0;32m~/mambaforge/lib/python3.9/site-packages/requests/adapters.py:440\u001b[0m, in \u001b[0;36mHTTPAdapter.send\u001b[0;34m(self, request, stream, timeout, verify, cert, proxies)\u001b[0m\n\u001b[1;32m    439\u001b[0m \u001b[38;5;28;01mif\u001b[39;00m \u001b[38;5;129;01mnot\u001b[39;00m chunked:\n\u001b[0;32m--> 440\u001b[0m     resp \u001b[38;5;241m=\u001b[39m \u001b[43mconn\u001b[49m\u001b[38;5;241;43m.\u001b[39;49m\u001b[43murlopen\u001b[49m\u001b[43m(\u001b[49m\n\u001b[1;32m    441\u001b[0m \u001b[43m        \u001b[49m\u001b[43mmethod\u001b[49m\u001b[38;5;241;43m=\u001b[39;49m\u001b[43mrequest\u001b[49m\u001b[38;5;241;43m.\u001b[39;49m\u001b[43mmethod\u001b[49m\u001b[43m,\u001b[49m\n\u001b[1;32m    442\u001b[0m \u001b[43m        \u001b[49m\u001b[43murl\u001b[49m\u001b[38;5;241;43m=\u001b[39;49m\u001b[43murl\u001b[49m\u001b[43m,\u001b[49m\n\u001b[1;32m    443\u001b[0m \u001b[43m        \u001b[49m\u001b[43mbody\u001b[49m\u001b[38;5;241;43m=\u001b[39;49m\u001b[43mrequest\u001b[49m\u001b[38;5;241;43m.\u001b[39;49m\u001b[43mbody\u001b[49m\u001b[43m,\u001b[49m\n\u001b[1;32m    444\u001b[0m \u001b[43m        \u001b[49m\u001b[43mheaders\u001b[49m\u001b[38;5;241;43m=\u001b[39;49m\u001b[43mrequest\u001b[49m\u001b[38;5;241;43m.\u001b[39;49m\u001b[43mheaders\u001b[49m\u001b[43m,\u001b[49m\n\u001b[1;32m    445\u001b[0m \u001b[43m        \u001b[49m\u001b[43mredirect\u001b[49m\u001b[38;5;241;43m=\u001b[39;49m\u001b[38;5;28;43;01mFalse\u001b[39;49;00m\u001b[43m,\u001b[49m\n\u001b[1;32m    446\u001b[0m \u001b[43m        \u001b[49m\u001b[43massert_same_host\u001b[49m\u001b[38;5;241;43m=\u001b[39;49m\u001b[38;5;28;43;01mFalse\u001b[39;49;00m\u001b[43m,\u001b[49m\n\u001b[1;32m    447\u001b[0m \u001b[43m        \u001b[49m\u001b[43mpreload_content\u001b[49m\u001b[38;5;241;43m=\u001b[39;49m\u001b[38;5;28;43;01mFalse\u001b[39;49;00m\u001b[43m,\u001b[49m\n\u001b[1;32m    448\u001b[0m \u001b[43m        \u001b[49m\u001b[43mdecode_content\u001b[49m\u001b[38;5;241;43m=\u001b[39;49m\u001b[38;5;28;43;01mFalse\u001b[39;49;00m\u001b[43m,\u001b[49m\n\u001b[1;32m    449\u001b[0m \u001b[43m        \u001b[49m\u001b[43mretries\u001b[49m\u001b[38;5;241;43m=\u001b[39;49m\u001b[38;5;28;43mself\u001b[39;49m\u001b[38;5;241;43m.\u001b[39;49m\u001b[43mmax_retries\u001b[49m\u001b[43m,\u001b[49m\n\u001b[1;32m    450\u001b[0m \u001b[43m        \u001b[49m\u001b[43mtimeout\u001b[49m\u001b[38;5;241;43m=\u001b[39;49m\u001b[43mtimeout\u001b[49m\n\u001b[1;32m    451\u001b[0m \u001b[43m    \u001b[49m\u001b[43m)\u001b[49m\n\u001b[1;32m    453\u001b[0m \u001b[38;5;66;03m# Send the request.\u001b[39;00m\n\u001b[1;32m    454\u001b[0m \u001b[38;5;28;01melse\u001b[39;00m:\n",
      "File \u001b[0;32m~/mambaforge/lib/python3.9/site-packages/urllib3/connectionpool.py:787\u001b[0m, in \u001b[0;36mHTTPConnectionPool.urlopen\u001b[0;34m(self, method, url, body, headers, retries, redirect, assert_same_host, timeout, pool_timeout, release_conn, chunked, body_pos, **response_kw)\u001b[0m\n\u001b[1;32m    785\u001b[0m     e \u001b[38;5;241m=\u001b[39m ProtocolError(\u001b[38;5;124m\"\u001b[39m\u001b[38;5;124mConnection aborted.\u001b[39m\u001b[38;5;124m\"\u001b[39m, e)\n\u001b[0;32m--> 787\u001b[0m retries \u001b[38;5;241m=\u001b[39m \u001b[43mretries\u001b[49m\u001b[38;5;241;43m.\u001b[39;49m\u001b[43mincrement\u001b[49m\u001b[43m(\u001b[49m\n\u001b[1;32m    788\u001b[0m \u001b[43m    \u001b[49m\u001b[43mmethod\u001b[49m\u001b[43m,\u001b[49m\u001b[43m \u001b[49m\u001b[43murl\u001b[49m\u001b[43m,\u001b[49m\u001b[43m \u001b[49m\u001b[43merror\u001b[49m\u001b[38;5;241;43m=\u001b[39;49m\u001b[43me\u001b[49m\u001b[43m,\u001b[49m\u001b[43m \u001b[49m\u001b[43m_pool\u001b[49m\u001b[38;5;241;43m=\u001b[39;49m\u001b[38;5;28;43mself\u001b[39;49m\u001b[43m,\u001b[49m\u001b[43m \u001b[49m\u001b[43m_stacktrace\u001b[49m\u001b[38;5;241;43m=\u001b[39;49m\u001b[43msys\u001b[49m\u001b[38;5;241;43m.\u001b[39;49m\u001b[43mexc_info\u001b[49m\u001b[43m(\u001b[49m\u001b[43m)\u001b[49m\u001b[43m[\u001b[49m\u001b[38;5;241;43m2\u001b[39;49m\u001b[43m]\u001b[49m\n\u001b[1;32m    789\u001b[0m \u001b[43m\u001b[49m\u001b[43m)\u001b[49m\n\u001b[1;32m    790\u001b[0m retries\u001b[38;5;241m.\u001b[39msleep()\n",
      "File \u001b[0;32m~/mambaforge/lib/python3.9/site-packages/urllib3/util/retry.py:550\u001b[0m, in \u001b[0;36mRetry.increment\u001b[0;34m(self, method, url, response, error, _pool, _stacktrace)\u001b[0m\n\u001b[1;32m    549\u001b[0m \u001b[38;5;28;01mif\u001b[39;00m read \u001b[38;5;129;01mis\u001b[39;00m \u001b[38;5;28;01mFalse\u001b[39;00m \u001b[38;5;129;01mor\u001b[39;00m \u001b[38;5;129;01mnot\u001b[39;00m \u001b[38;5;28mself\u001b[39m\u001b[38;5;241m.\u001b[39m_is_method_retryable(method):\n\u001b[0;32m--> 550\u001b[0m     \u001b[38;5;28;01mraise\u001b[39;00m \u001b[43msix\u001b[49m\u001b[38;5;241;43m.\u001b[39;49m\u001b[43mreraise\u001b[49m\u001b[43m(\u001b[49m\u001b[38;5;28;43mtype\u001b[39;49m\u001b[43m(\u001b[49m\u001b[43merror\u001b[49m\u001b[43m)\u001b[49m\u001b[43m,\u001b[49m\u001b[43m \u001b[49m\u001b[43merror\u001b[49m\u001b[43m,\u001b[49m\u001b[43m \u001b[49m\u001b[43m_stacktrace\u001b[49m\u001b[43m)\u001b[49m\n\u001b[1;32m    551\u001b[0m \u001b[38;5;28;01melif\u001b[39;00m read \u001b[38;5;129;01mis\u001b[39;00m \u001b[38;5;129;01mnot\u001b[39;00m \u001b[38;5;28;01mNone\u001b[39;00m:\n",
      "File \u001b[0;32m~/mambaforge/lib/python3.9/site-packages/urllib3/packages/six.py:770\u001b[0m, in \u001b[0;36mreraise\u001b[0;34m(tp, value, tb)\u001b[0m\n\u001b[1;32m    769\u001b[0m         \u001b[38;5;28;01mraise\u001b[39;00m value\u001b[38;5;241m.\u001b[39mwith_traceback(tb)\n\u001b[0;32m--> 770\u001b[0m     \u001b[38;5;28;01mraise\u001b[39;00m value\n\u001b[1;32m    771\u001b[0m \u001b[38;5;28;01mfinally\u001b[39;00m:\n",
      "File \u001b[0;32m~/mambaforge/lib/python3.9/site-packages/urllib3/connectionpool.py:703\u001b[0m, in \u001b[0;36mHTTPConnectionPool.urlopen\u001b[0;34m(self, method, url, body, headers, retries, redirect, assert_same_host, timeout, pool_timeout, release_conn, chunked, body_pos, **response_kw)\u001b[0m\n\u001b[1;32m    702\u001b[0m \u001b[38;5;66;03m# Make the request on the httplib connection object.\u001b[39;00m\n\u001b[0;32m--> 703\u001b[0m httplib_response \u001b[38;5;241m=\u001b[39m \u001b[38;5;28;43mself\u001b[39;49m\u001b[38;5;241;43m.\u001b[39;49m\u001b[43m_make_request\u001b[49m\u001b[43m(\u001b[49m\n\u001b[1;32m    704\u001b[0m \u001b[43m    \u001b[49m\u001b[43mconn\u001b[49m\u001b[43m,\u001b[49m\n\u001b[1;32m    705\u001b[0m \u001b[43m    \u001b[49m\u001b[43mmethod\u001b[49m\u001b[43m,\u001b[49m\n\u001b[1;32m    706\u001b[0m \u001b[43m    \u001b[49m\u001b[43murl\u001b[49m\u001b[43m,\u001b[49m\n\u001b[1;32m    707\u001b[0m \u001b[43m    \u001b[49m\u001b[43mtimeout\u001b[49m\u001b[38;5;241;43m=\u001b[39;49m\u001b[43mtimeout_obj\u001b[49m\u001b[43m,\u001b[49m\n\u001b[1;32m    708\u001b[0m \u001b[43m    \u001b[49m\u001b[43mbody\u001b[49m\u001b[38;5;241;43m=\u001b[39;49m\u001b[43mbody\u001b[49m\u001b[43m,\u001b[49m\n\u001b[1;32m    709\u001b[0m \u001b[43m    \u001b[49m\u001b[43mheaders\u001b[49m\u001b[38;5;241;43m=\u001b[39;49m\u001b[43mheaders\u001b[49m\u001b[43m,\u001b[49m\n\u001b[1;32m    710\u001b[0m \u001b[43m    \u001b[49m\u001b[43mchunked\u001b[49m\u001b[38;5;241;43m=\u001b[39;49m\u001b[43mchunked\u001b[49m\u001b[43m,\u001b[49m\n\u001b[1;32m    711\u001b[0m \u001b[43m\u001b[49m\u001b[43m)\u001b[49m\n\u001b[1;32m    713\u001b[0m \u001b[38;5;66;03m# If we're going to release the connection in ``finally:``, then\u001b[39;00m\n\u001b[1;32m    714\u001b[0m \u001b[38;5;66;03m# the response doesn't need to know about the connection. Otherwise\u001b[39;00m\n\u001b[1;32m    715\u001b[0m \u001b[38;5;66;03m# it will also try to release it and we'll have a double-release\u001b[39;00m\n\u001b[1;32m    716\u001b[0m \u001b[38;5;66;03m# mess.\u001b[39;00m\n",
      "File \u001b[0;32m~/mambaforge/lib/python3.9/site-packages/urllib3/connectionpool.py:451\u001b[0m, in \u001b[0;36mHTTPConnectionPool._make_request\u001b[0;34m(self, conn, method, url, timeout, chunked, **httplib_request_kw)\u001b[0m\n\u001b[1;32m    450\u001b[0m \u001b[38;5;28;01mexcept\u001b[39;00m (SocketTimeout, BaseSSLError, SocketError) \u001b[38;5;28;01mas\u001b[39;00m e:\n\u001b[0;32m--> 451\u001b[0m     \u001b[38;5;28;43mself\u001b[39;49m\u001b[38;5;241;43m.\u001b[39;49m\u001b[43m_raise_timeout\u001b[49m\u001b[43m(\u001b[49m\u001b[43merr\u001b[49m\u001b[38;5;241;43m=\u001b[39;49m\u001b[43me\u001b[49m\u001b[43m,\u001b[49m\u001b[43m \u001b[49m\u001b[43murl\u001b[49m\u001b[38;5;241;43m=\u001b[39;49m\u001b[43murl\u001b[49m\u001b[43m,\u001b[49m\u001b[43m \u001b[49m\u001b[43mtimeout_value\u001b[49m\u001b[38;5;241;43m=\u001b[39;49m\u001b[43mread_timeout\u001b[49m\u001b[43m)\u001b[49m\n\u001b[1;32m    452\u001b[0m     \u001b[38;5;28;01mraise\u001b[39;00m\n",
      "File \u001b[0;32m~/mambaforge/lib/python3.9/site-packages/urllib3/connectionpool.py:340\u001b[0m, in \u001b[0;36mHTTPConnectionPool._raise_timeout\u001b[0;34m(self, err, url, timeout_value)\u001b[0m\n\u001b[1;32m    339\u001b[0m \u001b[38;5;28;01mif\u001b[39;00m \u001b[38;5;28misinstance\u001b[39m(err, SocketTimeout):\n\u001b[0;32m--> 340\u001b[0m     \u001b[38;5;28;01mraise\u001b[39;00m ReadTimeoutError(\n\u001b[1;32m    341\u001b[0m         \u001b[38;5;28mself\u001b[39m, url, \u001b[38;5;124m\"\u001b[39m\u001b[38;5;124mRead timed out. (read timeout=\u001b[39m\u001b[38;5;132;01m%s\u001b[39;00m\u001b[38;5;124m)\u001b[39m\u001b[38;5;124m\"\u001b[39m \u001b[38;5;241m%\u001b[39m timeout_value\n\u001b[1;32m    342\u001b[0m     )\n\u001b[1;32m    344\u001b[0m \u001b[38;5;66;03m# See the above comment about EAGAIN in Python 3. In Python 2 we have\u001b[39;00m\n\u001b[1;32m    345\u001b[0m \u001b[38;5;66;03m# to specifically catch it and throw the timeout error\u001b[39;00m\n",
      "\u001b[0;31mReadTimeoutError\u001b[0m: HTTPSConnectionPool(host='api.crossref.org', port=443): Read timed out. (read timeout=30)",
      "\nDuring handling of the above exception, another exception occurred:\n",
      "\u001b[0;31mReadTimeout\u001b[0m                               Traceback (most recent call last)",
      "Input \u001b[0;32mIn [81]\u001b[0m, in \u001b[0;36m<cell line: 1>\u001b[0;34m()\u001b[0m\n\u001b[0;32m----> 1\u001b[0m \u001b[43mget_issn_list\u001b[49m\u001b[43m(\u001b[49m\u001b[43msession\u001b[49m\u001b[43m,\u001b[49m\u001b[43m \u001b[49m\u001b[38;5;241;43m2021\u001b[39;49m\u001b[43m,\u001b[49m\u001b[43m \u001b[49m\u001b[38;5;124;43m\"\u001b[39;49m\u001b[38;5;124;43m0002-9602\u001b[39;49m\u001b[38;5;124;43m\"\u001b[39;49m\u001b[43m)\u001b[49m\n",
      "Input \u001b[0;32mIn [80]\u001b[0m, in \u001b[0;36mget_issn_list\u001b[0;34m(session, year, issn)\u001b[0m\n\u001b[1;32m      9\u001b[0m \u001b[38;5;28;01mwhile\u001b[39;00m \u001b[38;5;28;01mTrue\u001b[39;00m:\n\u001b[1;32m     10\u001b[0m     params \u001b[38;5;241m=\u001b[39m {\n\u001b[1;32m     11\u001b[0m         \u001b[38;5;124m\"\u001b[39m\u001b[38;5;124mrows\u001b[39m\u001b[38;5;124m\"\u001b[39m: \u001b[38;5;241m1000\u001b[39m,\n\u001b[1;32m     12\u001b[0m         \u001b[38;5;124m\"\u001b[39m\u001b[38;5;124mcursor\u001b[39m\u001b[38;5;124m\"\u001b[39m: cursor,\n\u001b[1;32m     13\u001b[0m         \u001b[38;5;124m\"\u001b[39m\u001b[38;5;124mfilter\u001b[39m\u001b[38;5;124m\"\u001b[39m: \u001b[38;5;124mf\u001b[39m\u001b[38;5;124m\"\u001b[39m\u001b[38;5;124mfrom-pub-date:\u001b[39m\u001b[38;5;132;01m{\u001b[39;00myear\u001b[38;5;132;01m}\u001b[39;00m\u001b[38;5;124m-01,until-pub-date:\u001b[39m\u001b[38;5;132;01m{\u001b[39;00myear\u001b[38;5;132;01m}\u001b[39;00m\u001b[38;5;124m-12\u001b[39m\u001b[38;5;124m\"\u001b[39m\n\u001b[1;32m     14\u001b[0m     }\n\u001b[0;32m---> 15\u001b[0m     r \u001b[38;5;241m=\u001b[39m \u001b[43msession\u001b[49m\u001b[38;5;241;43m.\u001b[39;49m\u001b[43mget\u001b[49m\u001b[43m(\u001b[49m\u001b[43murl\u001b[49m\u001b[43m,\u001b[49m\u001b[43m \u001b[49m\u001b[43mparams\u001b[49m\u001b[38;5;241;43m=\u001b[39;49m\u001b[43mparams\u001b[49m\u001b[43m,\u001b[49m\u001b[43m \u001b[49m\n\u001b[1;32m     16\u001b[0m \u001b[43m                    \u001b[49m\u001b[43mheaders\u001b[49m\u001b[38;5;241;43m=\u001b[39;49m\u001b[43m{\u001b[49m\u001b[38;5;124;43m\"\u001b[39;49m\u001b[38;5;124;43muser-agent\u001b[39;49m\u001b[38;5;124;43m\"\u001b[39;49m\u001b[43m:\u001b[49m\u001b[43m \u001b[49m\u001b[38;5;124;43m\"\u001b[39;49m\u001b[38;5;124;43mMozilla/5.0 (Macintosh; Intel Mac OS X 10_15_7)\u001b[39;49m\u001b[38;5;124;43m\"\u001b[39;49m\u001b[43m}\u001b[49m\u001b[43m,\u001b[49m\n\u001b[1;32m     17\u001b[0m \u001b[43m                    \u001b[49m\u001b[43mtimeout\u001b[49m\u001b[38;5;241;43m=\u001b[39;49m\u001b[38;5;241;43m30\u001b[39;49m\u001b[43m)\u001b[49m\n\u001b[1;32m     18\u001b[0m     j \u001b[38;5;241m=\u001b[39m json\u001b[38;5;241m.\u001b[39mloads(r\u001b[38;5;241m.\u001b[39mtext)\n\u001b[1;32m     19\u001b[0m     \u001b[38;5;28;01mif\u001b[39;00m \u001b[38;5;28mlen\u001b[39m(j[\u001b[38;5;124m'\u001b[39m\u001b[38;5;124mmessage\u001b[39m\u001b[38;5;124m'\u001b[39m][\u001b[38;5;124m'\u001b[39m\u001b[38;5;124mitems\u001b[39m\u001b[38;5;124m'\u001b[39m]):\n",
      "File \u001b[0;32m~/mambaforge/lib/python3.9/site-packages/requests/sessions.py:542\u001b[0m, in \u001b[0;36mSession.get\u001b[0;34m(self, url, **kwargs)\u001b[0m\n\u001b[1;32m    534\u001b[0m \u001b[38;5;124mr\u001b[39m\u001b[38;5;124;03m\"\"\"Sends a GET request. Returns :class:`Response` object.\u001b[39;00m\n\u001b[1;32m    535\u001b[0m \n\u001b[1;32m    536\u001b[0m \u001b[38;5;124;03m:param url: URL for the new :class:`Request` object.\u001b[39;00m\n\u001b[1;32m    537\u001b[0m \u001b[38;5;124;03m:param \\*\\*kwargs: Optional arguments that ``request`` takes.\u001b[39;00m\n\u001b[1;32m    538\u001b[0m \u001b[38;5;124;03m:rtype: requests.Response\u001b[39;00m\n\u001b[1;32m    539\u001b[0m \u001b[38;5;124;03m\"\"\"\u001b[39;00m\n\u001b[1;32m    541\u001b[0m kwargs\u001b[38;5;241m.\u001b[39msetdefault(\u001b[38;5;124m'\u001b[39m\u001b[38;5;124mallow_redirects\u001b[39m\u001b[38;5;124m'\u001b[39m, \u001b[38;5;28;01mTrue\u001b[39;00m)\n\u001b[0;32m--> 542\u001b[0m \u001b[38;5;28;01mreturn\u001b[39;00m \u001b[38;5;28;43mself\u001b[39;49m\u001b[38;5;241;43m.\u001b[39;49m\u001b[43mrequest\u001b[49m\u001b[43m(\u001b[49m\u001b[38;5;124;43m'\u001b[39;49m\u001b[38;5;124;43mGET\u001b[39;49m\u001b[38;5;124;43m'\u001b[39;49m\u001b[43m,\u001b[49m\u001b[43m \u001b[49m\u001b[43murl\u001b[49m\u001b[43m,\u001b[49m\u001b[43m \u001b[49m\u001b[38;5;241;43m*\u001b[39;49m\u001b[38;5;241;43m*\u001b[39;49m\u001b[43mkwargs\u001b[49m\u001b[43m)\u001b[49m\n",
      "File \u001b[0;32m~/mambaforge/lib/python3.9/site-packages/requests/sessions.py:529\u001b[0m, in \u001b[0;36mSession.request\u001b[0;34m(self, method, url, params, data, headers, cookies, files, auth, timeout, allow_redirects, proxies, hooks, stream, verify, cert, json)\u001b[0m\n\u001b[1;32m    524\u001b[0m send_kwargs \u001b[38;5;241m=\u001b[39m {\n\u001b[1;32m    525\u001b[0m     \u001b[38;5;124m'\u001b[39m\u001b[38;5;124mtimeout\u001b[39m\u001b[38;5;124m'\u001b[39m: timeout,\n\u001b[1;32m    526\u001b[0m     \u001b[38;5;124m'\u001b[39m\u001b[38;5;124mallow_redirects\u001b[39m\u001b[38;5;124m'\u001b[39m: allow_redirects,\n\u001b[1;32m    527\u001b[0m }\n\u001b[1;32m    528\u001b[0m send_kwargs\u001b[38;5;241m.\u001b[39mupdate(settings)\n\u001b[0;32m--> 529\u001b[0m resp \u001b[38;5;241m=\u001b[39m \u001b[38;5;28;43mself\u001b[39;49m\u001b[38;5;241;43m.\u001b[39;49m\u001b[43msend\u001b[49m\u001b[43m(\u001b[49m\u001b[43mprep\u001b[49m\u001b[43m,\u001b[49m\u001b[43m \u001b[49m\u001b[38;5;241;43m*\u001b[39;49m\u001b[38;5;241;43m*\u001b[39;49m\u001b[43msend_kwargs\u001b[49m\u001b[43m)\u001b[49m\n\u001b[1;32m    531\u001b[0m \u001b[38;5;28;01mreturn\u001b[39;00m resp\n",
      "File \u001b[0;32m~/mambaforge/lib/python3.9/site-packages/requests/sessions.py:645\u001b[0m, in \u001b[0;36mSession.send\u001b[0;34m(self, request, **kwargs)\u001b[0m\n\u001b[1;32m    642\u001b[0m start \u001b[38;5;241m=\u001b[39m preferred_clock()\n\u001b[1;32m    644\u001b[0m \u001b[38;5;66;03m# Send the request\u001b[39;00m\n\u001b[0;32m--> 645\u001b[0m r \u001b[38;5;241m=\u001b[39m \u001b[43madapter\u001b[49m\u001b[38;5;241;43m.\u001b[39;49m\u001b[43msend\u001b[49m\u001b[43m(\u001b[49m\u001b[43mrequest\u001b[49m\u001b[43m,\u001b[49m\u001b[43m \u001b[49m\u001b[38;5;241;43m*\u001b[39;49m\u001b[38;5;241;43m*\u001b[39;49m\u001b[43mkwargs\u001b[49m\u001b[43m)\u001b[49m\n\u001b[1;32m    647\u001b[0m \u001b[38;5;66;03m# Total elapsed time of the request (approximately)\u001b[39;00m\n\u001b[1;32m    648\u001b[0m elapsed \u001b[38;5;241m=\u001b[39m preferred_clock() \u001b[38;5;241m-\u001b[39m start\n",
      "File \u001b[0;32m~/mambaforge/lib/python3.9/site-packages/requests/adapters.py:532\u001b[0m, in \u001b[0;36mHTTPAdapter.send\u001b[0;34m(self, request, stream, timeout, verify, cert, proxies)\u001b[0m\n\u001b[1;32m    530\u001b[0m     \u001b[38;5;28;01mraise\u001b[39;00m SSLError(e, request\u001b[38;5;241m=\u001b[39mrequest)\n\u001b[1;32m    531\u001b[0m \u001b[38;5;28;01melif\u001b[39;00m \u001b[38;5;28misinstance\u001b[39m(e, ReadTimeoutError):\n\u001b[0;32m--> 532\u001b[0m     \u001b[38;5;28;01mraise\u001b[39;00m ReadTimeout(e, request\u001b[38;5;241m=\u001b[39mrequest)\n\u001b[1;32m    533\u001b[0m \u001b[38;5;28;01melif\u001b[39;00m \u001b[38;5;28misinstance\u001b[39m(e, _InvalidHeader):\n\u001b[1;32m    534\u001b[0m     \u001b[38;5;28;01mraise\u001b[39;00m InvalidHeader(e, request\u001b[38;5;241m=\u001b[39mrequest)\n",
      "\u001b[0;31mReadTimeout\u001b[0m: HTTPSConnectionPool(host='api.crossref.org', port=443): Read timed out. (read timeout=30)"
     ]
    }
   ],
   "source": [
    "get_issn_list(session, 2021, \"0002-9602\")"
   ]
  },
  {
   "cell_type": "code",
   "execution_count": 45,
   "id": "dcdd8d61-1644-4562-bd7d-87714cffde43",
   "metadata": {
    "tags": []
   },
   "outputs": [
    {
     "name": "stdout",
     "output_type": "stream",
     "text": [
      "1000 1728\n",
      "1728 1728\n"
     ]
    }
   ],
   "source": [
    "issn = \"1360-0540\"\n",
    "url = f\"http://api.crossref.org/journals/{issn}/works\"\n",
    "\n",
    "cursor = '*'\n",
    "results = list()\n",
    "\n",
    "session = HTMLSession()\n",
    "\n",
    "while True:\n",
    "    r = session.get(url, params={\"rows\": 1000, \"cursor\": cursor}, \n",
    "                    headers = {\"user-agent\": \"Mozilla/5.0 (Macintosh; Intel Mac OS X 10_15_7)\"})\n",
    "    total = r.json()['message']['total-results']\n",
    "    cursor = r.json()['message']['next-cursor']\n",
    "    items = r.json()['message']['items']\n",
    "    results += items\n",
    "    print(len(results), total)\n",
    "    if len(results) < total:\n",
    "        continue\n",
    "    else:\n",
    "        break"
   ]
  },
  {
   "cell_type": "code",
   "execution_count": 50,
   "id": "75d13e4e-87b7-4a97-bb3e-ec811e8f9a3b",
   "metadata": {},
   "outputs": [],
   "source": [
    "journal_title = \"Journal_of_Education_for_Teaching\"\n",
    "journal_issn = \"1360-0540\""
   ]
  },
  {
   "cell_type": "code",
   "execution_count": 47,
   "id": "fb36f3f1-e071-4dfa-a3d0-572a2ca93837",
   "metadata": {},
   "outputs": [],
   "source": [
    "import pandas as pd"
   ]
  },
  {
   "cell_type": "code",
   "execution_count": 48,
   "id": "5469bbc0-7104-4cdf-8e5a-8d54129b670a",
   "metadata": {},
   "outputs": [],
   "source": [
    "articles_df = pd.json_normalize(results)"
   ]
  },
  {
   "cell_type": "code",
   "execution_count": 51,
   "id": "3aa021b1-220d-4547-a13d-1c6855d56813",
   "metadata": {},
   "outputs": [],
   "source": [
    "articles_df.to_csv(f\"{journal_title}.tsv\", sep='\\t')"
   ]
  },
  {
   "cell_type": "code",
   "execution_count": 55,
   "id": "2172359c-23d8-49ec-b8ff-56bfdf48d9be",
   "metadata": {},
   "outputs": [
    {
     "data": {
      "application/vnd.jupyter.widget-view+json": {
       "model_id": "12dfecfa6f8944e7bba91de3311f96f8",
       "version_major": 2,
       "version_minor": 0
      },
      "text/plain": [
       "  0%|          | 0/1728 [00:00<?, ?it/s]"
      ]
     },
     "metadata": {},
     "output_type": "display_data"
    }
   ],
   "source": [
    "ref_list = []\n",
    "for references in tqdm(articles_df.reference.tolist()):\n",
    "    if type(references) == list:\n",
    "        ref_list += references"
   ]
  },
  {
   "cell_type": "code",
   "execution_count": 56,
   "id": "7f085ecf-430e-4510-ab2c-0d0bb61b0df6",
   "metadata": {},
   "outputs": [],
   "source": []
  },
  {
   "cell_type": "code",
   "execution_count": 63,
   "id": "6ed98950-6e6c-4c54-bfbe-b7674ff5c53d",
   "metadata": {},
   "outputs": [
    {
     "data": {
      "text/plain": [
       "['10.1016/S0742-051X(02)00087-2',\n",
       " '10.1080/13504620120065230',\n",
       " '10.1080/0261976870100305',\n",
       " '10.1016/0742-051X(93)90015-9',\n",
       " '10.1080/03057640123915',\n",
       " '10.1108/09513549410065701',\n",
       " '10.1037/0022-0663.71.5.669',\n",
       " '10.1017/9781316275184',\n",
       " '10.1017/9781009024532',\n",
       " '10.1080/03057267.2013.858496']"
      ]
     },
     "execution_count": 63,
     "metadata": {},
     "output_type": "execute_result"
    }
   ],
   "source": [
    "list(ref_info.keys())[-10:]"
   ]
  },
  {
   "cell_type": "code",
   "execution_count": 80,
   "id": "f690aa51-7956-456b-a893-978b2aa01a70",
   "metadata": {},
   "outputs": [
    {
     "name": "stdout",
     "output_type": "stream",
     "text": [
      "Sci-Clone/v0.4 (https://github.com/f10w3r/sci-clone; mailto:lifuminster@gmail.com) BasedOn: CrossrefAPI/1.5.0\n"
     ]
    }
   ],
   "source": [
    "print(my_etiquette)"
   ]
  },
  {
   "cell_type": "code",
   "execution_count": 82,
   "id": "5513d347-adec-4270-b4b6-5b758f4eab36",
   "metadata": {},
   "outputs": [
    {
     "data": {
      "text/plain": [
       "'Sci-Clone/v0.4 (https://github.com/f10w3r/sci-clone; mailto:lifuminster@gmail.com) BasedOn: innerFunction/v0.4'"
      ]
     },
     "execution_count": 82,
     "metadata": {},
     "output_type": "execute_result"
    }
   ],
   "source": [
    "v_APP = 'Sci-Clone'\n",
    "v_APP_Ver = 'v0.4'\n",
    "v_APP_URL = 'https://github.com/f10w3r/sci-clone'\n",
    "v_APP_Email = 'lifuminster@gmail.com'\n",
    "v_API = \"innerFunction\"\n",
    "\n",
    "etiquette = f\"{v_APP}/{v_APP_Ver} ({v_APP_URL}; mailto:{v_APP_Email}) BasedOn: {v_API}/{v_APP_Ver}\"\n",
    "etiquette"
   ]
  },
  {
   "cell_type": "code",
   "execution_count": 73,
   "id": "49ace9ed-cc4d-49bb-83f6-027a0c6e05fd",
   "metadata": {},
   "outputs": [],
   "source": [
    "import time\n",
    "from crossref.restful import Works, Etiquette\n",
    "\n",
    "my_etiquette = Etiquette('Sci-Clone', 'v0.4', \n",
    "                         'https://github.com/f10w3r/sci-clone', \n",
    "                         'lifuminster@gmail.com')\n",
    "works = Works(etiquette=my_etiquette)"
   ]
  },
  {
   "cell_type": "code",
   "execution_count": 74,
   "id": "13a00419-fa04-4cfe-abfb-de3e5c475d4d",
   "metadata": {},
   "outputs": [
    {
     "data": {
      "application/vnd.jupyter.widget-view+json": {
       "model_id": "b0ae564a0f6640a49b0945f65ac32496",
       "version_major": 2,
       "version_minor": 0
      },
      "text/plain": [
       "  0%|          | 0/34246 [00:00<?, ?it/s]"
      ]
     },
     "metadata": {},
     "output_type": "display_data"
    },
    {
     "name": "stdout",
     "output_type": "stream",
     "text": [
      "error, retrying...\n"
     ]
    },
    {
     "data": {
      "application/vnd.jupyter.widget-view+json": {
       "model_id": "698568137d2f4e0ea39d253917f76b9a",
       "version_major": 2,
       "version_minor": 0
      },
      "text/plain": [
       "  0%|          | 0/34246 [00:00<?, ?it/s]"
      ]
     },
     "metadata": {},
     "output_type": "display_data"
    }
   ],
   "source": [
    "while True:\n",
    "    try:\n",
    "        for ref in tqdm(ref_list):\n",
    "            if \"DOI\" in ref:\n",
    "                if ref['DOI'] not in ref_info:\n",
    "                    ref_info[ref['DOI']] = works.doi(ref['DOI'])\n",
    "              #      print(ref['DOI'])\n",
    "    except:\n",
    "        print(\"error, retrying...\")\n",
    "        time.sleep(30)\n",
    "        continue\n",
    "    break"
   ]
  },
  {
   "cell_type": "code",
   "execution_count": 75,
   "id": "338324fb-5df1-4f68-b63e-5f7467c34c84",
   "metadata": {},
   "outputs": [],
   "source": [
    "articles_ref_df = pd.json_normalize(ref_info.values())"
   ]
  },
  {
   "cell_type": "code",
   "execution_count": 76,
   "id": "eca46441-2498-4613-b08c-b81c9e496d8f",
   "metadata": {},
   "outputs": [],
   "source": [
    "articles_ref_df.to_csv(f'{journal_title}_ref_DOI.tsv', sep='\\t')"
   ]
  },
  {
   "cell_type": "code",
   "execution_count": 77,
   "id": "08f46cc5-4406-40ff-be98-a1c6ffc8cca5",
   "metadata": {},
   "outputs": [
    {
     "data": {
      "text/html": [
       "<div>\n",
       "<style scoped>\n",
       "    .dataframe tbody tr th:only-of-type {\n",
       "        vertical-align: middle;\n",
       "    }\n",
       "\n",
       "    .dataframe tbody tr th {\n",
       "        vertical-align: top;\n",
       "    }\n",
       "\n",
       "    .dataframe thead th {\n",
       "        text-align: right;\n",
       "    }\n",
       "</style>\n",
       "<table border=\"1\" class=\"dataframe\">\n",
       "  <thead>\n",
       "    <tr style=\"text-align: right;\">\n",
       "      <th></th>\n",
       "      <th>reference-count</th>\n",
       "      <th>publisher</th>\n",
       "      <th>issue</th>\n",
       "      <th>short-container-title</th>\n",
       "      <th>DOI</th>\n",
       "      <th>type</th>\n",
       "      <th>page</th>\n",
       "      <th>source</th>\n",
       "      <th>is-referenced-by-count</th>\n",
       "      <th>title</th>\n",
       "      <th>...</th>\n",
       "      <th>event.sponsor</th>\n",
       "      <th>relation.has-preprint</th>\n",
       "      <th>clinical-trial-number</th>\n",
       "      <th>group-title</th>\n",
       "      <th>subtype</th>\n",
       "      <th>posted.date-parts</th>\n",
       "      <th>relation.is-preprint-of</th>\n",
       "      <th>degree</th>\n",
       "      <th>approved.date-parts</th>\n",
       "      <th>relation.has-review</th>\n",
       "    </tr>\n",
       "  </thead>\n",
       "  <tbody>\n",
       "    <tr>\n",
       "      <th>0</th>\n",
       "      <td>15.0</td>\n",
       "      <td>Informa UK Limited</td>\n",
       "      <td>3</td>\n",
       "      <td>[Educational Research]</td>\n",
       "      <td>10.1080/0013188790210307</td>\n",
       "      <td>journal-article</td>\n",
       "      <td>212-219</td>\n",
       "      <td>Crossref</td>\n",
       "      <td>13.0</td>\n",
       "      <td>[Early Changes in Teacher Attitude]</td>\n",
       "      <td>...</td>\n",
       "      <td>NaN</td>\n",
       "      <td>NaN</td>\n",
       "      <td>NaN</td>\n",
       "      <td>NaN</td>\n",
       "      <td>NaN</td>\n",
       "      <td>NaN</td>\n",
       "      <td>NaN</td>\n",
       "      <td>NaN</td>\n",
       "      <td>NaN</td>\n",
       "      <td>NaN</td>\n",
       "    </tr>\n",
       "    <tr>\n",
       "      <th>1</th>\n",
       "      <td>12.0</td>\n",
       "      <td>Informa UK Limited</td>\n",
       "      <td>3-4</td>\n",
       "      <td>[South Pacific Journal of Teacher Education]</td>\n",
       "      <td>10.1080/0311213790070304</td>\n",
       "      <td>journal-article</td>\n",
       "      <td>92-98</td>\n",
       "      <td>Crossref</td>\n",
       "      <td>7.0</td>\n",
       "      <td>[From Student to Primary School Teacher: Attit...</td>\n",
       "      <td>...</td>\n",
       "      <td>NaN</td>\n",
       "      <td>NaN</td>\n",
       "      <td>NaN</td>\n",
       "      <td>NaN</td>\n",
       "      <td>NaN</td>\n",
       "      <td>NaN</td>\n",
       "      <td>NaN</td>\n",
       "      <td>NaN</td>\n",
       "      <td>NaN</td>\n",
       "      <td>NaN</td>\n",
       "    </tr>\n",
       "    <tr>\n",
       "      <th>2</th>\n",
       "      <td>0.0</td>\n",
       "      <td>University of Chicago Press</td>\n",
       "      <td>3</td>\n",
       "      <td>[The School Review]</td>\n",
       "      <td>10.1086/442847</td>\n",
       "      <td>journal-article</td>\n",
       "      <td>312-323</td>\n",
       "      <td>Crossref</td>\n",
       "      <td>61.0</td>\n",
       "      <td>[The Influence of Experience on the Beginning ...</td>\n",
       "      <td>...</td>\n",
       "      <td>NaN</td>\n",
       "      <td>NaN</td>\n",
       "      <td>NaN</td>\n",
       "      <td>NaN</td>\n",
       "      <td>NaN</td>\n",
       "      <td>NaN</td>\n",
       "      <td>NaN</td>\n",
       "      <td>NaN</td>\n",
       "      <td>NaN</td>\n",
       "      <td>NaN</td>\n",
       "    </tr>\n",
       "    <tr>\n",
       "      <th>3</th>\n",
       "      <td>0.0</td>\n",
       "      <td>Wiley</td>\n",
       "      <td>1</td>\n",
       "      <td>[]</td>\n",
       "      <td>10.1111/j.2044-8260.1967.tb00496.x</td>\n",
       "      <td>journal-article</td>\n",
       "      <td>32-37</td>\n",
       "      <td>Crossref</td>\n",
       "      <td>31.0</td>\n",
       "      <td>[The Educational Opinions of Teachers in Train...</td>\n",
       "      <td>...</td>\n",
       "      <td>NaN</td>\n",
       "      <td>NaN</td>\n",
       "      <td>NaN</td>\n",
       "      <td>NaN</td>\n",
       "      <td>NaN</td>\n",
       "      <td>NaN</td>\n",
       "      <td>NaN</td>\n",
       "      <td>NaN</td>\n",
       "      <td>NaN</td>\n",
       "      <td>NaN</td>\n",
       "    </tr>\n",
       "    <tr>\n",
       "      <th>4</th>\n",
       "      <td>11.0</td>\n",
       "      <td>Informa UK Limited</td>\n",
       "      <td>3</td>\n",
       "      <td>[Educational Research]</td>\n",
       "      <td>10.1080/0013188670090307</td>\n",
       "      <td>journal-article</td>\n",
       "      <td>208-212</td>\n",
       "      <td>Crossref</td>\n",
       "      <td>30.0</td>\n",
       "      <td>[THEORY AND PRACTICE IN THE EDUCATION OF TEACH...</td>\n",
       "      <td>...</td>\n",
       "      <td>NaN</td>\n",
       "      <td>NaN</td>\n",
       "      <td>NaN</td>\n",
       "      <td>NaN</td>\n",
       "      <td>NaN</td>\n",
       "      <td>NaN</td>\n",
       "      <td>NaN</td>\n",
       "      <td>NaN</td>\n",
       "      <td>NaN</td>\n",
       "      <td>NaN</td>\n",
       "    </tr>\n",
       "    <tr>\n",
       "      <th>...</th>\n",
       "      <td>...</td>\n",
       "      <td>...</td>\n",
       "      <td>...</td>\n",
       "      <td>...</td>\n",
       "      <td>...</td>\n",
       "      <td>...</td>\n",
       "      <td>...</td>\n",
       "      <td>...</td>\n",
       "      <td>...</td>\n",
       "      <td>...</td>\n",
       "      <td>...</td>\n",
       "      <td>...</td>\n",
       "      <td>...</td>\n",
       "      <td>...</td>\n",
       "      <td>...</td>\n",
       "      <td>...</td>\n",
       "      <td>...</td>\n",
       "      <td>...</td>\n",
       "      <td>...</td>\n",
       "      <td>...</td>\n",
       "      <td>...</td>\n",
       "    </tr>\n",
       "    <tr>\n",
       "      <th>11482</th>\n",
       "      <td>21.0</td>\n",
       "      <td>Springer Science and Business Media LLC</td>\n",
       "      <td>1</td>\n",
       "      <td>[J Math Teacher Educ]</td>\n",
       "      <td>10.1007/s10857-006-9006-8</td>\n",
       "      <td>journal-article</td>\n",
       "      <td>91-102</td>\n",
       "      <td>Crossref</td>\n",
       "      <td>102.0</td>\n",
       "      <td>[Viewing Mathematics Teachers’ Beliefs as Sens...</td>\n",
       "      <td>...</td>\n",
       "      <td>NaN</td>\n",
       "      <td>NaN</td>\n",
       "      <td>NaN</td>\n",
       "      <td>NaN</td>\n",
       "      <td>NaN</td>\n",
       "      <td>NaN</td>\n",
       "      <td>NaN</td>\n",
       "      <td>NaN</td>\n",
       "      <td>NaN</td>\n",
       "      <td>NaN</td>\n",
       "    </tr>\n",
       "    <tr>\n",
       "      <th>11483</th>\n",
       "      <td>42.0</td>\n",
       "      <td>Springer Science and Business Media LLC</td>\n",
       "      <td>3</td>\n",
       "      <td>[Educ Stud Math]</td>\n",
       "      <td>10.1007/s10649-005-2745-0</td>\n",
       "      <td>journal-article</td>\n",
       "      <td>361-391</td>\n",
       "      <td>Crossref</td>\n",
       "      <td>88.0</td>\n",
       "      <td>[Issues of Methods and Theory in the Study of ...</td>\n",
       "      <td>...</td>\n",
       "      <td>NaN</td>\n",
       "      <td>NaN</td>\n",
       "      <td>NaN</td>\n",
       "      <td>NaN</td>\n",
       "      <td>NaN</td>\n",
       "      <td>NaN</td>\n",
       "      <td>NaN</td>\n",
       "      <td>NaN</td>\n",
       "      <td>NaN</td>\n",
       "      <td>NaN</td>\n",
       "    </tr>\n",
       "    <tr>\n",
       "      <th>11484</th>\n",
       "      <td>12.0</td>\n",
       "      <td>Wiley</td>\n",
       "      <td>5</td>\n",
       "      <td>[]</td>\n",
       "      <td>10.1111/j.1949-8594.2004.tb18245.x</td>\n",
       "      <td>journal-article</td>\n",
       "      <td>226-232</td>\n",
       "      <td>Crossref</td>\n",
       "      <td>48.0</td>\n",
       "      <td>[Change in Preservice Teachers' Beliefs: An Ev...</td>\n",
       "      <td>...</td>\n",
       "      <td>NaN</td>\n",
       "      <td>NaN</td>\n",
       "      <td>NaN</td>\n",
       "      <td>NaN</td>\n",
       "      <td>NaN</td>\n",
       "      <td>NaN</td>\n",
       "      <td>NaN</td>\n",
       "      <td>NaN</td>\n",
       "      <td>NaN</td>\n",
       "      <td>NaN</td>\n",
       "    </tr>\n",
       "    <tr>\n",
       "      <th>11485</th>\n",
       "      <td>8.0</td>\n",
       "      <td>Informa UK Limited</td>\n",
       "      <td>3</td>\n",
       "      <td>[Journal of Education for Teaching]</td>\n",
       "      <td>10.1080/09589236.2019.1599507</td>\n",
       "      <td>journal-article</td>\n",
       "      <td>353-357</td>\n",
       "      <td>Crossref</td>\n",
       "      <td>6.0</td>\n",
       "      <td>[Enhancing preservice teachers’ professional c...</td>\n",
       "      <td>...</td>\n",
       "      <td>NaN</td>\n",
       "      <td>NaN</td>\n",
       "      <td>NaN</td>\n",
       "      <td>NaN</td>\n",
       "      <td>NaN</td>\n",
       "      <td>NaN</td>\n",
       "      <td>NaN</td>\n",
       "      <td>NaN</td>\n",
       "      <td>NaN</td>\n",
       "      <td>NaN</td>\n",
       "    </tr>\n",
       "    <tr>\n",
       "      <th>11486</th>\n",
       "      <td>1.0</td>\n",
       "      <td>Routledge</td>\n",
       "      <td>NaN</td>\n",
       "      <td>[]</td>\n",
       "      <td>10.4324/9781315523293-12</td>\n",
       "      <td>book-chapter</td>\n",
       "      <td>143-155</td>\n",
       "      <td>Crossref</td>\n",
       "      <td>25.0</td>\n",
       "      <td>[Synchronous Online Teaching]</td>\n",
       "      <td>...</td>\n",
       "      <td>NaN</td>\n",
       "      <td>NaN</td>\n",
       "      <td>NaN</td>\n",
       "      <td>NaN</td>\n",
       "      <td>NaN</td>\n",
       "      <td>NaN</td>\n",
       "      <td>NaN</td>\n",
       "      <td>NaN</td>\n",
       "      <td>NaN</td>\n",
       "      <td>NaN</td>\n",
       "    </tr>\n",
       "  </tbody>\n",
       "</table>\n",
       "<p>11487 rows × 80 columns</p>\n",
       "</div>"
      ],
      "text/plain": [
       "       reference-count                                publisher issue  \\\n",
       "0                 15.0                       Informa UK Limited     3   \n",
       "1                 12.0                       Informa UK Limited   3-4   \n",
       "2                  0.0              University of Chicago Press     3   \n",
       "3                  0.0                                    Wiley     1   \n",
       "4                 11.0                       Informa UK Limited     3   \n",
       "...                ...                                      ...   ...   \n",
       "11482             21.0  Springer Science and Business Media LLC     1   \n",
       "11483             42.0  Springer Science and Business Media LLC     3   \n",
       "11484             12.0                                    Wiley     5   \n",
       "11485              8.0                       Informa UK Limited     3   \n",
       "11486              1.0                                Routledge   NaN   \n",
       "\n",
       "                              short-container-title  \\\n",
       "0                            [Educational Research]   \n",
       "1      [South Pacific Journal of Teacher Education]   \n",
       "2                               [The School Review]   \n",
       "3                                                []   \n",
       "4                            [Educational Research]   \n",
       "...                                             ...   \n",
       "11482                         [J Math Teacher Educ]   \n",
       "11483                              [Educ Stud Math]   \n",
       "11484                                            []   \n",
       "11485           [Journal of Education for Teaching]   \n",
       "11486                                            []   \n",
       "\n",
       "                                      DOI             type     page    source  \\\n",
       "0                10.1080/0013188790210307  journal-article  212-219  Crossref   \n",
       "1                10.1080/0311213790070304  journal-article    92-98  Crossref   \n",
       "2                          10.1086/442847  journal-article  312-323  Crossref   \n",
       "3      10.1111/j.2044-8260.1967.tb00496.x  journal-article    32-37  Crossref   \n",
       "4                10.1080/0013188670090307  journal-article  208-212  Crossref   \n",
       "...                                   ...              ...      ...       ...   \n",
       "11482           10.1007/s10857-006-9006-8  journal-article   91-102  Crossref   \n",
       "11483           10.1007/s10649-005-2745-0  journal-article  361-391  Crossref   \n",
       "11484  10.1111/j.1949-8594.2004.tb18245.x  journal-article  226-232  Crossref   \n",
       "11485       10.1080/09589236.2019.1599507  journal-article  353-357  Crossref   \n",
       "11486            10.4324/9781315523293-12     book-chapter  143-155  Crossref   \n",
       "\n",
       "       is-referenced-by-count  \\\n",
       "0                        13.0   \n",
       "1                         7.0   \n",
       "2                        61.0   \n",
       "3                        31.0   \n",
       "4                        30.0   \n",
       "...                       ...   \n",
       "11482                   102.0   \n",
       "11483                    88.0   \n",
       "11484                    48.0   \n",
       "11485                     6.0   \n",
       "11486                    25.0   \n",
       "\n",
       "                                                   title  ... event.sponsor  \\\n",
       "0                    [Early Changes in Teacher Attitude]  ...           NaN   \n",
       "1      [From Student to Primary School Teacher: Attit...  ...           NaN   \n",
       "2      [The Influence of Experience on the Beginning ...  ...           NaN   \n",
       "3      [The Educational Opinions of Teachers in Train...  ...           NaN   \n",
       "4      [THEORY AND PRACTICE IN THE EDUCATION OF TEACH...  ...           NaN   \n",
       "...                                                  ...  ...           ...   \n",
       "11482  [Viewing Mathematics Teachers’ Beliefs as Sens...  ...           NaN   \n",
       "11483  [Issues of Methods and Theory in the Study of ...  ...           NaN   \n",
       "11484  [Change in Preservice Teachers' Beliefs: An Ev...  ...           NaN   \n",
       "11485  [Enhancing preservice teachers’ professional c...  ...           NaN   \n",
       "11486                      [Synchronous Online Teaching]  ...           NaN   \n",
       "\n",
       "      relation.has-preprint clinical-trial-number group-title subtype  \\\n",
       "0                       NaN                   NaN         NaN     NaN   \n",
       "1                       NaN                   NaN         NaN     NaN   \n",
       "2                       NaN                   NaN         NaN     NaN   \n",
       "3                       NaN                   NaN         NaN     NaN   \n",
       "4                       NaN                   NaN         NaN     NaN   \n",
       "...                     ...                   ...         ...     ...   \n",
       "11482                   NaN                   NaN         NaN     NaN   \n",
       "11483                   NaN                   NaN         NaN     NaN   \n",
       "11484                   NaN                   NaN         NaN     NaN   \n",
       "11485                   NaN                   NaN         NaN     NaN   \n",
       "11486                   NaN                   NaN         NaN     NaN   \n",
       "\n",
       "      posted.date-parts relation.is-preprint-of degree approved.date-parts  \\\n",
       "0                   NaN                     NaN    NaN                 NaN   \n",
       "1                   NaN                     NaN    NaN                 NaN   \n",
       "2                   NaN                     NaN    NaN                 NaN   \n",
       "3                   NaN                     NaN    NaN                 NaN   \n",
       "4                   NaN                     NaN    NaN                 NaN   \n",
       "...                 ...                     ...    ...                 ...   \n",
       "11482               NaN                     NaN    NaN                 NaN   \n",
       "11483               NaN                     NaN    NaN                 NaN   \n",
       "11484               NaN                     NaN    NaN                 NaN   \n",
       "11485               NaN                     NaN    NaN                 NaN   \n",
       "11486               NaN                     NaN    NaN                 NaN   \n",
       "\n",
       "       relation.has-review  \n",
       "0                      NaN  \n",
       "1                      NaN  \n",
       "2                      NaN  \n",
       "3                      NaN  \n",
       "4                      NaN  \n",
       "...                    ...  \n",
       "11482                  NaN  \n",
       "11483                  NaN  \n",
       "11484                  NaN  \n",
       "11485                  NaN  \n",
       "11486                  NaN  \n",
       "\n",
       "[11487 rows x 80 columns]"
      ]
     },
     "execution_count": 77,
     "metadata": {},
     "output_type": "execute_result"
    }
   ],
   "source": [
    "articles_ref_df"
   ]
  },
  {
   "cell_type": "code",
   "execution_count": 5,
   "id": "0c6e6a5b-e8da-44d7-aea1-b3263d054fa2",
   "metadata": {},
   "outputs": [],
   "source": [
    "from crossref.restful import Journals\n",
    "from tqdm.notebook import tqdm\n",
    "tqdm.pandas()\n",
    "\n",
    "journals = Journals()"
   ]
  },
  {
   "cell_type": "code",
   "execution_count": 6,
   "id": "935b5de2-8417-48ee-bfd2-a235f80b397e",
   "metadata": {},
   "outputs": [],
   "source": [
    "ws = journals.works('1360-0540').filter(from_pub_date='2017', until_pub_date='2017')"
   ]
  },
  {
   "cell_type": "code",
   "execution_count": 7,
   "id": "4d7bcbb1-e6f7-4534-8dff-a3ecd46df0d1",
   "metadata": {},
   "outputs": [
    {
     "data": {
      "text/plain": [
       "'https://api.crossref.org/journals/1360-0540/works?filter=from-pub-date%3A2017%2Cuntil-pub-date%3A2017'"
      ]
     },
     "execution_count": 7,
     "metadata": {},
     "output_type": "execute_result"
    }
   ],
   "source": [
    "ws.url"
   ]
  },
  {
   "cell_type": "code",
   "execution_count": 8,
   "id": "ea6b58f0-df77-4011-ab88-54c4cbb45464",
   "metadata": {
    "tags": []
   },
   "outputs": [
    {
     "data": {
      "application/vnd.jupyter.widget-view+json": {
       "model_id": "942d608959c74903b65cc0d8b39ba73a",
       "version_major": 2,
       "version_minor": 0
      },
      "text/plain": [
       "0it [00:00, ?it/s]"
      ]
     },
     "metadata": {},
     "output_type": "display_data"
    }
   ],
   "source": [
    "result = [i for i in tqdm(ws)]"
   ]
  },
  {
   "cell_type": "code",
   "execution_count": 54,
   "id": "311956aa-f707-4611-bb45-358671873b83",
   "metadata": {},
   "outputs": [
    {
     "ename": "NameError",
     "evalue": "name 'works' is not defined",
     "output_type": "error",
     "traceback": [
      "\u001b[0;31m---------------------------------------------------------------------------\u001b[0m",
      "\u001b[0;31mNameError\u001b[0m                                 Traceback (most recent call last)",
      "Input \u001b[0;32mIn [54]\u001b[0m, in \u001b[0;36m<cell line: 1>\u001b[0;34m()\u001b[0m\n\u001b[0;32m----> 1\u001b[0m \u001b[43mworks\u001b[49m\u001b[38;5;241m.\u001b[39mdoi(\u001b[38;5;124m'\u001b[39m\u001b[38;5;124m10.1590/0102-311x00133115\u001b[39m\u001b[38;5;124m'\u001b[39m)\n",
      "\u001b[0;31mNameError\u001b[0m: name 'works' is not defined"
     ]
    }
   ],
   "source": [
    "works.doi('10.1590/0102-311x00133115')"
   ]
  },
  {
   "cell_type": "code",
   "execution_count": null,
   "id": "dc89a1ba-d192-45ae-8835-b1032a143604",
   "metadata": {},
   "outputs": [],
   "source": []
  }
 ],
 "metadata": {
  "kernelspec": {
   "display_name": "Python 3 (ipykernel)",
   "language": "python",
   "name": "python3"
  },
  "language_info": {
   "codemirror_mode": {
    "name": "ipython",
    "version": 3
   },
   "file_extension": ".py",
   "mimetype": "text/x-python",
   "name": "python",
   "nbconvert_exporter": "python",
   "pygments_lexer": "ipython3",
   "version": "3.9.12"
  },
  "widgets": {
   "application/vnd.jupyter.widget-state+json": {
    "state": {
     "009fdca3098b43a2bad12149a7dad5b3": {
      "model_module": "@jupyter-widgets/base",
      "model_module_version": "1.2.0",
      "model_name": "LayoutModel",
      "state": {}
     },
     "00b4ceb612d846bb983aeb85f213d5d8": {
      "model_module": "@jupyter-widgets/controls",
      "model_module_version": "1.5.0",
      "model_name": "HTMLModel",
      "state": {
       "layout": "IPY_MODEL_81af33fce4da4241a5af5915ae74113f",
       "style": "IPY_MODEL_98074e2844c544fb934d58bceee27972",
       "value": " 34%"
      }
     },
     "032ab63ec6cd4401965982a69c8211bd": {
      "model_module": "@jupyter-widgets/controls",
      "model_module_version": "1.5.0",
      "model_name": "DescriptionStyleModel",
      "state": {
       "description_width": ""
      }
     },
     "04014ba2d4ff430aa41ee02006779ffe": {
      "model_module": "@jupyter-widgets/controls",
      "model_module_version": "1.5.0",
      "model_name": "HTMLModel",
      "state": {
       "layout": "IPY_MODEL_9ebb2f805fb14cc496166efed66d7698",
       "style": "IPY_MODEL_aa45811c6c734cc2b72d0d59efa18ec0",
       "value": " 14489/34246 [00:54&lt;04:26, 74.06it/s]"
      }
     },
     "046e61304e9547a79a004a0b0a036fed": {
      "model_module": "@jupyter-widgets/controls",
      "model_module_version": "1.5.0",
      "model_name": "HTMLModel",
      "state": {
       "layout": "IPY_MODEL_3bd055821bb346c49dddbf925b3df559",
       "style": "IPY_MODEL_ff427d23f1eb41798c6c74ab9310d4da",
       "value": " 11762/34246 [1:22:51&lt;1:24:58,  4.41it/s]"
      }
     },
     "051f8845348b46f28a4d30b03491e44d": {
      "model_module": "@jupyter-widgets/base",
      "model_module_version": "1.2.0",
      "model_name": "LayoutModel",
      "state": {}
     },
     "070e7fd8b3c04407ac21b81be5d79211": {
      "model_module": "@jupyter-widgets/base",
      "model_module_version": "1.2.0",
      "model_name": "LayoutModel",
      "state": {}
     },
     "09c5fb5f49ac460bacc1d0e486eafe09": {
      "model_module": "@jupyter-widgets/controls",
      "model_module_version": "1.5.0",
      "model_name": "ProgressStyleModel",
      "state": {
       "description_width": ""
      }
     },
     "0a339af574ba4f33b6f600699ec6d5d4": {
      "model_module": "@jupyter-widgets/controls",
      "model_module_version": "1.5.0",
      "model_name": "DescriptionStyleModel",
      "state": {
       "description_width": ""
      }
     },
     "0a54e527a4bb41bda8a56945ad926087": {
      "model_module": "@jupyter-widgets/base",
      "model_module_version": "1.2.0",
      "model_name": "LayoutModel",
      "state": {}
     },
     "0e187b9c5e5d4974a08ca29b83b2440e": {
      "model_module": "@jupyter-widgets/controls",
      "model_module_version": "1.5.0",
      "model_name": "DescriptionStyleModel",
      "state": {
       "description_width": ""
      }
     },
     "0ee2c627c9984d9084310cc3297a628e": {
      "model_module": "@jupyter-widgets/controls",
      "model_module_version": "1.5.0",
      "model_name": "HTMLModel",
      "state": {
       "layout": "IPY_MODEL_b1e8d167d5184467a99a2000d4856bf3",
       "style": "IPY_MODEL_4377747232874c768250785cb2a68849",
       "value": " 30501/34246 [1:10:55&lt;3:58:03,  3.81s/it]"
      }
     },
     "0fdcf17b00e74a309d43c84cb9b66de4": {
      "model_module": "@jupyter-widgets/controls",
      "model_module_version": "1.5.0",
      "model_name": "HTMLModel",
      "state": {
       "layout": "IPY_MODEL_5db2fa4d01a04d97858042b2ff5bc8a1",
       "style": "IPY_MODEL_b8ae37c2001f490283575aa74ff20a39",
       "value": " 30512/34246 [03:02&lt;00:23, 159.99it/s]"
      }
     },
     "11e5180eb0fb4ca08b040c62f3bdb51a": {
      "model_module": "@jupyter-widgets/base",
      "model_module_version": "1.2.0",
      "model_name": "LayoutModel",
      "state": {}
     },
     "11f2ac455e944b3f8bda2e9b7b8d2e2e": {
      "model_module": "@jupyter-widgets/controls",
      "model_module_version": "1.5.0",
      "model_name": "FloatProgressModel",
      "state": {
       "bar_style": "danger",
       "layout": "IPY_MODEL_c9034f4495fa48129d149f50d3ba6282",
       "max": 34246,
       "style": "IPY_MODEL_71f9260ac2f04c728a6fe0e58978a87e",
       "value": 11762
      }
     },
     "1227cf71288348a0a11962ce13271acf": {
      "model_module": "@jupyter-widgets/controls",
      "model_module_version": "1.5.0",
      "model_name": "DescriptionStyleModel",
      "state": {
       "description_width": ""
      }
     },
     "12dfecfa6f8944e7bba91de3311f96f8": {
      "model_module": "@jupyter-widgets/controls",
      "model_module_version": "1.5.0",
      "model_name": "HBoxModel",
      "state": {
       "children": [
        "IPY_MODEL_6be2c059fe9c4cb797e808cdc6830920",
        "IPY_MODEL_885bb4e5aeae4c629057c4e2e07774f9",
        "IPY_MODEL_22a58fd4a1e6447ab5d337f32591c3ec"
       ],
       "layout": "IPY_MODEL_651dddd18c114f29b93efdb45dfa8717"
      }
     },
     "15a420ac473c462eb68787b610a51bd1": {
      "model_module": "@jupyter-widgets/controls",
      "model_module_version": "1.5.0",
      "model_name": "HBoxModel",
      "state": {
       "children": [
        "IPY_MODEL_8a7aab08131240d48e46444e127608f4",
        "IPY_MODEL_b9d8e031685144a088de5cb0d01e808b",
        "IPY_MODEL_0ee2c627c9984d9084310cc3297a628e"
       ],
       "layout": "IPY_MODEL_8f21e4b5b98f4bdc801e1dc4a7ee421c"
      }
     },
     "17d2cb5eabf24d498f30fc4c6051760c": {
      "model_module": "@jupyter-widgets/base",
      "model_module_version": "1.2.0",
      "model_name": "LayoutModel",
      "state": {}
     },
     "1ade29f395ff425dae9bab22d22eb231": {
      "model_module": "@jupyter-widgets/controls",
      "model_module_version": "1.5.0",
      "model_name": "HBoxModel",
      "state": {
       "children": [
        "IPY_MODEL_70a272e190514da5b7bc0d501389f89c",
        "IPY_MODEL_d8325ea2ea46496391bef3a9941ffd97",
        "IPY_MODEL_21c3040882b64e72a62caf1aee20491e"
       ],
       "layout": "IPY_MODEL_83d8c3128eab4d20af0aa5637dc4890f"
      }
     },
     "1ee112e89b564c95b7220e9d53247d75": {
      "model_module": "@jupyter-widgets/controls",
      "model_module_version": "1.5.0",
      "model_name": "HBoxModel",
      "state": {
       "children": [
        "IPY_MODEL_ea3c437bc08f4ae8b8d914d2443ee07a",
        "IPY_MODEL_99c47dbcd70a4484b417a066aa11f86e",
        "IPY_MODEL_a61b14fa7f9140a3931413c5cf555ab7"
       ],
       "layout": "IPY_MODEL_860ea1b2b8a44a5783c6dff770f55db9"
      }
     },
     "21c3040882b64e72a62caf1aee20491e": {
      "model_module": "@jupyter-widgets/controls",
      "model_module_version": "1.5.0",
      "model_name": "HTMLModel",
      "state": {
       "layout": "IPY_MODEL_b2170ac972c649e5a0e6182987dffbaa",
       "style": "IPY_MODEL_d4a6dafe7c6f43e882a7faa52c890754",
       "value": " 30519/34246 [01:51&lt;00:05, 724.20it/s]"
      }
     },
     "22a58fd4a1e6447ab5d337f32591c3ec": {
      "model_module": "@jupyter-widgets/controls",
      "model_module_version": "1.5.0",
      "model_name": "HTMLModel",
      "state": {
       "layout": "IPY_MODEL_d9a76ddd8480485badb5a180da6f7a2b",
       "style": "IPY_MODEL_ea66d949c4af4658846fbed3f6b6d7cb",
       "value": " 1728/1728 [00:00&lt;00:00, 74265.90it/s]"
      }
     },
     "24b31625ec4e42419ec17de52c27a6f8": {
      "model_module": "@jupyter-widgets/controls",
      "model_module_version": "1.5.0",
      "model_name": "DescriptionStyleModel",
      "state": {
       "description_width": ""
      }
     },
     "2923724c8036444eb90ec9c676bc6d2f": {
      "model_module": "@jupyter-widgets/controls",
      "model_module_version": "1.5.0",
      "model_name": "DescriptionStyleModel",
      "state": {
       "description_width": ""
      }
     },
     "2973f71463be49f394e8a6ef56106f4f": {
      "model_module": "@jupyter-widgets/controls",
      "model_module_version": "1.5.0",
      "model_name": "HBoxModel",
      "state": {
       "children": [
        "IPY_MODEL_f6c65fcd6dea417abfd00bbf08dc9cbe",
        "IPY_MODEL_2cf2f88e78bb4eb4be719de8112e2815",
        "IPY_MODEL_cd5c89deeb714fe3a309be3ed97dbf43"
       ],
       "layout": "IPY_MODEL_2d95731bfe9b4955b8f11b81c3c5399b"
      }
     },
     "2a1b324da5de4d4fb3ef3877246f3672": {
      "model_module": "@jupyter-widgets/controls",
      "model_module_version": "1.5.0",
      "model_name": "HTMLModel",
      "state": {
       "layout": "IPY_MODEL_426b115058f4411596852dd6e103412d",
       "style": "IPY_MODEL_d12c3918355a4eef9effa757fbf4f6e7",
       "value": " 40%"
      }
     },
     "2a2226099ec545af9fad9ee0a81301f7": {
      "model_module": "@jupyter-widgets/controls",
      "model_module_version": "1.5.0",
      "model_name": "HBoxModel",
      "state": {
       "children": [
        "IPY_MODEL_a45cf802da8241f780ec64fcac12df6f",
        "IPY_MODEL_cadb4a444d074bcca46110717f4956fd",
        "IPY_MODEL_79cde7756d124681baa691b2a1d02d61"
       ],
       "layout": "IPY_MODEL_b3d0959ea31947f1b088e1fba40da87b"
      }
     },
     "2b0235ead38c421baf1ce996ecb1ce58": {
      "model_module": "@jupyter-widgets/controls",
      "model_module_version": "1.5.0",
      "model_name": "DescriptionStyleModel",
      "state": {
       "description_width": ""
      }
     },
     "2b6150af239441229953d7016706f8fd": {
      "model_module": "@jupyter-widgets/base",
      "model_module_version": "1.2.0",
      "model_name": "LayoutModel",
      "state": {}
     },
     "2cf2f88e78bb4eb4be719de8112e2815": {
      "model_module": "@jupyter-widgets/controls",
      "model_module_version": "1.5.0",
      "model_name": "FloatProgressModel",
      "state": {
       "bar_style": "danger",
       "layout": "IPY_MODEL_49fdc577a0a942d8bb0c4c1353be4947",
       "max": 1728,
       "style": "IPY_MODEL_6e498a9ec8b94c7f89aa042cba97cca6"
      }
     },
     "2d8b43e4dbc14e4293f600315976c044": {
      "model_module": "@jupyter-widgets/controls",
      "model_module_version": "1.5.0",
      "model_name": "ProgressStyleModel",
      "state": {
       "description_width": ""
      }
     },
     "2d95731bfe9b4955b8f11b81c3c5399b": {
      "model_module": "@jupyter-widgets/base",
      "model_module_version": "1.2.0",
      "model_name": "LayoutModel",
      "state": {}
     },
     "313a3ff56c624502be9c819ab0e15234": {
      "model_module": "@jupyter-widgets/controls",
      "model_module_version": "1.5.0",
      "model_name": "HBoxModel",
      "state": {
       "children": [
        "IPY_MODEL_00b4ceb612d846bb983aeb85f213d5d8",
        "IPY_MODEL_11f2ac455e944b3f8bda2e9b7b8d2e2e",
        "IPY_MODEL_046e61304e9547a79a004a0b0a036fed"
       ],
       "layout": "IPY_MODEL_7b9503f6a68e47e39fad9c3f916e8033"
      }
     },
     "317121c6503e4bcc861b6cf820620342": {
      "model_module": "@jupyter-widgets/controls",
      "model_module_version": "1.5.0",
      "model_name": "ProgressStyleModel",
      "state": {
       "description_width": ""
      }
     },
     "3226f80299914c47a330069db3cc4c5a": {
      "model_module": "@jupyter-widgets/controls",
      "model_module_version": "1.5.0",
      "model_name": "HBoxModel",
      "state": {
       "children": [
        "IPY_MODEL_6a0090c41bea4eedb12f724c5ab75052",
        "IPY_MODEL_c5fed2cb277d46a18fbfad73c4d0e624",
        "IPY_MODEL_6749345afd5c4f96a0052421f220d9ec"
       ],
       "layout": "IPY_MODEL_7f1419a2730241b883888f03369dad93"
      }
     },
     "36b0534027554e038d6c4a5764936ca2": {
      "model_module": "@jupyter-widgets/controls",
      "model_module_version": "1.5.0",
      "model_name": "DescriptionStyleModel",
      "state": {
       "description_width": ""
      }
     },
     "38023c567d6f443592e5f5af4f92e873": {
      "model_module": "@jupyter-widgets/base",
      "model_module_version": "1.2.0",
      "model_name": "LayoutModel",
      "state": {}
     },
     "3a4a795bba57483b95b8fe1208c21823": {
      "model_module": "@jupyter-widgets/controls",
      "model_module_version": "1.5.0",
      "model_name": "HBoxModel",
      "state": {
       "children": [
        "IPY_MODEL_53429a19c1984499ae9d6e8b12ffc186",
        "IPY_MODEL_428a11a52a424eef82fdfe64a66a2da6",
        "IPY_MODEL_716a4bd1681b4e2e9e47f99cdadaff6d"
       ],
       "layout": "IPY_MODEL_58987bf00e21450489a49f3604d7f675"
      }
     },
     "3bd055821bb346c49dddbf925b3df559": {
      "model_module": "@jupyter-widgets/base",
      "model_module_version": "1.2.0",
      "model_name": "LayoutModel",
      "state": {}
     },
     "4186ace111304b91a9dbd24829886ebc": {
      "model_module": "@jupyter-widgets/base",
      "model_module_version": "1.2.0",
      "model_name": "LayoutModel",
      "state": {}
     },
     "426b115058f4411596852dd6e103412d": {
      "model_module": "@jupyter-widgets/base",
      "model_module_version": "1.2.0",
      "model_name": "LayoutModel",
      "state": {}
     },
     "428a11a52a424eef82fdfe64a66a2da6": {
      "model_module": "@jupyter-widgets/controls",
      "model_module_version": "1.5.0",
      "model_name": "FloatProgressModel",
      "state": {
       "bar_style": "danger",
       "layout": "IPY_MODEL_e75abefcf138481198e8b4c3902f32cc",
       "max": 34246,
       "style": "IPY_MODEL_c674812c03ee48b49a8032ec5d7c7350",
       "value": 14497
      }
     },
     "4377747232874c768250785cb2a68849": {
      "model_module": "@jupyter-widgets/controls",
      "model_module_version": "1.5.0",
      "model_name": "DescriptionStyleModel",
      "state": {
       "description_width": ""
      }
     },
     "444399f94f7d48af8d494380271080a5": {
      "model_module": "@jupyter-widgets/controls",
      "model_module_version": "1.5.0",
      "model_name": "ProgressStyleModel",
      "state": {
       "description_width": ""
      }
     },
     "44907a8523304dfe892ca94989165366": {
      "model_module": "@jupyter-widgets/base",
      "model_module_version": "1.2.0",
      "model_name": "LayoutModel",
      "state": {}
     },
     "4653a202f503440d997285730db82f7b": {
      "model_module": "@jupyter-widgets/controls",
      "model_module_version": "1.5.0",
      "model_name": "DescriptionStyleModel",
      "state": {
       "description_width": ""
      }
     },
     "46e3a08f575f43b3a28b1a4d97cfa664": {
      "model_module": "@jupyter-widgets/base",
      "model_module_version": "1.2.0",
      "model_name": "LayoutModel",
      "state": {
       "width": "20px"
      }
     },
     "47c0f4c109a644d8ad91d333033fde39": {
      "model_module": "@jupyter-widgets/controls",
      "model_module_version": "1.5.0",
      "model_name": "DescriptionStyleModel",
      "state": {
       "description_width": ""
      }
     },
     "48deb8f9d2db40c992a67142d9190a10": {
      "model_module": "@jupyter-widgets/controls",
      "model_module_version": "1.5.0",
      "model_name": "DescriptionStyleModel",
      "state": {
       "description_width": ""
      }
     },
     "49fdc577a0a942d8bb0c4c1353be4947": {
      "model_module": "@jupyter-widgets/base",
      "model_module_version": "1.2.0",
      "model_name": "LayoutModel",
      "state": {}
     },
     "4a9acc89c4af4e8fb2d2b5c01f40a2c9": {
      "model_module": "@jupyter-widgets/controls",
      "model_module_version": "1.5.0",
      "model_name": "HTMLModel",
      "state": {
       "layout": "IPY_MODEL_f5f7e1f81180432899bfc70e5d5b5cd3",
       "style": "IPY_MODEL_bacc085f3bf045918c7cb951e38d5b93",
       "value": " 89%"
      }
     },
     "4d659243279b406eb519d00b32d7ce03": {
      "model_module": "@jupyter-widgets/controls",
      "model_module_version": "1.5.0",
      "model_name": "DescriptionStyleModel",
      "state": {
       "description_width": ""
      }
     },
     "4da28186492642d2a282001f8998507c": {
      "model_module": "@jupyter-widgets/base",
      "model_module_version": "1.2.0",
      "model_name": "LayoutModel",
      "state": {}
     },
     "4e09959e5abd4d31ac99256421ab0603": {
      "model_module": "@jupyter-widgets/controls",
      "model_module_version": "1.5.0",
      "model_name": "HTMLModel",
      "state": {
       "layout": "IPY_MODEL_6fb7c43b810c4e66bb424450d098166a",
       "style": "IPY_MODEL_36b0534027554e038d6c4a5764936ca2",
       "value": " 34246/34246 [05:09&lt;00:00,  5.22it/s]"
      }
     },
     "4e41785d71b5493f8a22749e1681cd70": {
      "model_module": "@jupyter-widgets/controls",
      "model_module_version": "1.5.0",
      "model_name": "HTMLModel",
      "state": {
       "layout": "IPY_MODEL_051f8845348b46f28a4d30b03491e44d",
       "style": "IPY_MODEL_e229c96d207548bb81064343adf7f129",
       "value": " 33027/34246 [10:10&lt;02:58,  6.82it/s]"
      }
     },
     "4ec4faef07e04c8e8f66d26c2aa3689f": {
      "model_module": "@jupyter-widgets/controls",
      "model_module_version": "1.5.0",
      "model_name": "DescriptionStyleModel",
      "state": {
       "description_width": ""
      }
     },
     "4f5def6832f646b7b15aa900644f5633": {
      "model_module": "@jupyter-widgets/controls",
      "model_module_version": "1.5.0",
      "model_name": "HTMLModel",
      "state": {
       "layout": "IPY_MODEL_50bde46fa8964797a575572a625fd756",
       "style": "IPY_MODEL_710f49a23d8c45f0b9cf8360545c3c5d",
       "value": " 89%"
      }
     },
     "50bde46fa8964797a575572a625fd756": {
      "model_module": "@jupyter-widgets/base",
      "model_module_version": "1.2.0",
      "model_name": "LayoutModel",
      "state": {}
     },
     "53429a19c1984499ae9d6e8b12ffc186": {
      "model_module": "@jupyter-widgets/controls",
      "model_module_version": "1.5.0",
      "model_name": "HTMLModel",
      "state": {
       "layout": "IPY_MODEL_deabc9bca1f24df78accf12be21d9c3f",
       "style": "IPY_MODEL_f7c1cb8bfcb44670bee66dd6c57ae182",
       "value": " 42%"
      }
     },
     "543de5e5cf4d409ab5458bf95ace5922": {
      "model_module": "@jupyter-widgets/base",
      "model_module_version": "1.2.0",
      "model_name": "LayoutModel",
      "state": {}
     },
     "54806bb0028e4776b3b0ac4bbfd7120e": {
      "model_module": "@jupyter-widgets/controls",
      "model_module_version": "1.5.0",
      "model_name": "FloatProgressModel",
      "state": {
       "bar_style": "danger",
       "layout": "IPY_MODEL_793c3d73c7114a7aa13d8f5f222d25c2",
       "max": 34246,
       "style": "IPY_MODEL_faff3245d9bf43b29e0119d31710db62",
       "value": 14489
      }
     },
     "550f2c1db3fb447fb9d4e76af3dccd2b": {
      "model_module": "@jupyter-widgets/base",
      "model_module_version": "1.2.0",
      "model_name": "LayoutModel",
      "state": {}
     },
     "5783c0083a5949d2bcf934258d8abaeb": {
      "model_module": "@jupyter-widgets/controls",
      "model_module_version": "1.5.0",
      "model_name": "HTMLModel",
      "state": {
       "layout": "IPY_MODEL_bc84bab33a364382a4c699dc44749133",
       "style": "IPY_MODEL_f8ba867f81ba423ea7bd588ed0b2e566",
       "value": " 14337/34246 [01:58&lt;26:05, 12.72it/s]"
      }
     },
     "587fcb6c16c14bacab999c924fa4f107": {
      "model_module": "@jupyter-widgets/controls",
      "model_module_version": "1.5.0",
      "model_name": "FloatProgressModel",
      "state": {
       "bar_style": "success",
       "layout": "IPY_MODEL_eea0a6ecc27744dfbee641117c604aed",
       "max": 34246,
       "style": "IPY_MODEL_e9923a39b1da4af1b3ecdb7df2df9ed8",
       "value": 34246
      }
     },
     "58987bf00e21450489a49f3604d7f675": {
      "model_module": "@jupyter-widgets/base",
      "model_module_version": "1.2.0",
      "model_name": "LayoutModel",
      "state": {}
     },
     "5db2fa4d01a04d97858042b2ff5bc8a1": {
      "model_module": "@jupyter-widgets/base",
      "model_module_version": "1.2.0",
      "model_name": "LayoutModel",
      "state": {}
     },
     "5e9252c2de874993bed84d7a63ccf5f7": {
      "model_module": "@jupyter-widgets/base",
      "model_module_version": "1.2.0",
      "model_name": "LayoutModel",
      "state": {}
     },
     "61c0c3de25624625ac1ebca5aed1c041": {
      "model_module": "@jupyter-widgets/base",
      "model_module_version": "1.2.0",
      "model_name": "LayoutModel",
      "state": {}
     },
     "6258beff812347fe8f793cff97fd41fe": {
      "model_module": "@jupyter-widgets/base",
      "model_module_version": "1.2.0",
      "model_name": "LayoutModel",
      "state": {}
     },
     "64fda8661ca4404dad7150b56aa0d3a0": {
      "model_module": "@jupyter-widgets/controls",
      "model_module_version": "1.5.0",
      "model_name": "FloatProgressModel",
      "state": {
       "bar_style": "danger",
       "layout": "IPY_MODEL_550f2c1db3fb447fb9d4e76af3dccd2b",
       "max": 34246,
       "style": "IPY_MODEL_a04fbde924714c9193b198701fc9da3b",
       "value": 13855
      }
     },
     "651dddd18c114f29b93efdb45dfa8717": {
      "model_module": "@jupyter-widgets/base",
      "model_module_version": "1.2.0",
      "model_name": "LayoutModel",
      "state": {}
     },
     "656d139a9332436aba889970ff6b850b": {
      "model_module": "@jupyter-widgets/base",
      "model_module_version": "1.2.0",
      "model_name": "LayoutModel",
      "state": {}
     },
     "6749345afd5c4f96a0052421f220d9ec": {
      "model_module": "@jupyter-widgets/controls",
      "model_module_version": "1.5.0",
      "model_name": "HTMLModel",
      "state": {
       "layout": "IPY_MODEL_4186ace111304b91a9dbd24829886ebc",
       "style": "IPY_MODEL_aff74d76bc044ae88a9639bca0676f86",
       "value": " 30528/34246 [01:40&lt;00:16, 220.17it/s]"
      }
     },
     "698568137d2f4e0ea39d253917f76b9a": {
      "model_module": "@jupyter-widgets/controls",
      "model_module_version": "1.5.0",
      "model_name": "HBoxModel",
      "state": {
       "children": [
        "IPY_MODEL_aa1b4e5baded4701aa21945791c91c97",
        "IPY_MODEL_587fcb6c16c14bacab999c924fa4f107",
        "IPY_MODEL_4e09959e5abd4d31ac99256421ab0603"
       ],
       "layout": "IPY_MODEL_8e27309a53d540f3a92939ce213e9c8b"
      }
     },
     "6a0090c41bea4eedb12f724c5ab75052": {
      "model_module": "@jupyter-widgets/controls",
      "model_module_version": "1.5.0",
      "model_name": "HTMLModel",
      "state": {
       "layout": "IPY_MODEL_d98a4ca5abc44cdfb963792140b980e9",
       "style": "IPY_MODEL_48deb8f9d2db40c992a67142d9190a10",
       "value": " 89%"
      }
     },
     "6b9256ad841a44578174258f228fa06d": {
      "model_module": "@jupyter-widgets/base",
      "model_module_version": "1.2.0",
      "model_name": "LayoutModel",
      "state": {}
     },
     "6be2c059fe9c4cb797e808cdc6830920": {
      "model_module": "@jupyter-widgets/controls",
      "model_module_version": "1.5.0",
      "model_name": "HTMLModel",
      "state": {
       "layout": "IPY_MODEL_b5d6dcaacf4c4daf943b15e17dd696df",
       "style": "IPY_MODEL_4d659243279b406eb519d00b32d7ce03",
       "value": "100%"
      }
     },
     "6bf1f03aae864b1694271e264cce43fe": {
      "model_module": "@jupyter-widgets/base",
      "model_module_version": "1.2.0",
      "model_name": "LayoutModel",
      "state": {}
     },
     "6d817ea622344f8187d3fa12e1b2a4b2": {
      "model_module": "@jupyter-widgets/base",
      "model_module_version": "1.2.0",
      "model_name": "LayoutModel",
      "state": {}
     },
     "6e498a9ec8b94c7f89aa042cba97cca6": {
      "model_module": "@jupyter-widgets/controls",
      "model_module_version": "1.5.0",
      "model_name": "ProgressStyleModel",
      "state": {
       "description_width": ""
      }
     },
     "6f57b51c12dc4230a7fb5675b68e6074": {
      "model_module": "@jupyter-widgets/base",
      "model_module_version": "1.2.0",
      "model_name": "LayoutModel",
      "state": {}
     },
     "6fb7c43b810c4e66bb424450d098166a": {
      "model_module": "@jupyter-widgets/base",
      "model_module_version": "1.2.0",
      "model_name": "LayoutModel",
      "state": {}
     },
     "7049e625b2bb4006b05261907646a52b": {
      "model_module": "@jupyter-widgets/controls",
      "model_module_version": "1.5.0",
      "model_name": "FloatProgressModel",
      "state": {
       "bar_style": "danger",
       "layout": "IPY_MODEL_38023c567d6f443592e5f5af4f92e873",
       "max": 34246,
       "style": "IPY_MODEL_a17ce83ad07947d4846f10cb8b3d13f4",
       "value": 30512
      }
     },
     "70a272e190514da5b7bc0d501389f89c": {
      "model_module": "@jupyter-widgets/controls",
      "model_module_version": "1.5.0",
      "model_name": "HTMLModel",
      "state": {
       "layout": "IPY_MODEL_e1288a75862d4b38a19bbfe0d98ed124",
       "style": "IPY_MODEL_81c966b974d14b6f8b73846b548f5f5d",
       "value": " 89%"
      }
     },
     "710f49a23d8c45f0b9cf8360545c3c5d": {
      "model_module": "@jupyter-widgets/controls",
      "model_module_version": "1.5.0",
      "model_name": "DescriptionStyleModel",
      "state": {
       "description_width": ""
      }
     },
     "716a4bd1681b4e2e9e47f99cdadaff6d": {
      "model_module": "@jupyter-widgets/controls",
      "model_module_version": "1.5.0",
      "model_name": "HTMLModel",
      "state": {
       "layout": "IPY_MODEL_543de5e5cf4d409ab5458bf95ace5922",
       "style": "IPY_MODEL_0a339af574ba4f33b6f600699ec6d5d4",
       "value": " 14497/34246 [00:04&lt;00:01, 18767.95it/s]"
      }
     },
     "71f9260ac2f04c728a6fe0e58978a87e": {
      "model_module": "@jupyter-widgets/controls",
      "model_module_version": "1.5.0",
      "model_name": "ProgressStyleModel",
      "state": {
       "description_width": ""
      }
     },
     "793c3d73c7114a7aa13d8f5f222d25c2": {
      "model_module": "@jupyter-widgets/base",
      "model_module_version": "1.2.0",
      "model_name": "LayoutModel",
      "state": {}
     },
     "79a6e1ab4771485796559c3655cef4fe": {
      "model_module": "@jupyter-widgets/controls",
      "model_module_version": "1.5.0",
      "model_name": "FloatProgressModel",
      "state": {
       "bar_style": "danger",
       "layout": "IPY_MODEL_2b6150af239441229953d7016706f8fd",
       "max": 34246,
       "style": "IPY_MODEL_ef098dea618d47b395895a0607557f63",
       "value": 33027
      }
     },
     "79cde7756d124681baa691b2a1d02d61": {
      "model_module": "@jupyter-widgets/controls",
      "model_module_version": "1.5.0",
      "model_name": "HTMLModel",
      "state": {
       "layout": "IPY_MODEL_dd9541ba2ddb4b44b41b13d8ccccbb25",
       "style": "IPY_MODEL_47c0f4c109a644d8ad91d333033fde39",
       "value": " 30518/34246 [01:23&lt;00:07, 484.45it/s]"
      }
     },
     "7b9503f6a68e47e39fad9c3f916e8033": {
      "model_module": "@jupyter-widgets/base",
      "model_module_version": "1.2.0",
      "model_name": "LayoutModel",
      "state": {}
     },
     "7cb318fce0824a349615935fe96bf60c": {
      "model_module": "@jupyter-widgets/base",
      "model_module_version": "1.2.0",
      "model_name": "LayoutModel",
      "state": {}
     },
     "7f1419a2730241b883888f03369dad93": {
      "model_module": "@jupyter-widgets/base",
      "model_module_version": "1.2.0",
      "model_name": "LayoutModel",
      "state": {}
     },
     "8056f3208bd84d24882a6fdef43ed562": {
      "model_module": "@jupyter-widgets/controls",
      "model_module_version": "1.5.0",
      "model_name": "DescriptionStyleModel",
      "state": {
       "description_width": ""
      }
     },
     "81af33fce4da4241a5af5915ae74113f": {
      "model_module": "@jupyter-widgets/base",
      "model_module_version": "1.2.0",
      "model_name": "LayoutModel",
      "state": {}
     },
     "81c966b974d14b6f8b73846b548f5f5d": {
      "model_module": "@jupyter-widgets/controls",
      "model_module_version": "1.5.0",
      "model_name": "DescriptionStyleModel",
      "state": {
       "description_width": ""
      }
     },
     "8266b587c83f4b4392a7e7b8713f27c5": {
      "model_module": "@jupyter-widgets/base",
      "model_module_version": "1.2.0",
      "model_name": "LayoutModel",
      "state": {}
     },
     "827536b2a82d4419bda2ce635f6f0c6b": {
      "model_module": "@jupyter-widgets/controls",
      "model_module_version": "1.5.0",
      "model_name": "HBoxModel",
      "state": {
       "children": [
        "IPY_MODEL_4a9acc89c4af4e8fb2d2b5c01f40a2c9",
        "IPY_MODEL_9556ddc6230e4163a585a42cb54446eb",
        "IPY_MODEL_90f939fcee4444b990777a9a3946b851"
       ],
       "layout": "IPY_MODEL_b50726f787d546789e492d238ae0e16e"
      }
     },
     "83d8c3128eab4d20af0aa5637dc4890f": {
      "model_module": "@jupyter-widgets/base",
      "model_module_version": "1.2.0",
      "model_name": "LayoutModel",
      "state": {}
     },
     "83eae099125e4183a65f39f0ee3e47ed": {
      "model_module": "@jupyter-widgets/controls",
      "model_module_version": "1.5.0",
      "model_name": "HTMLModel",
      "state": {
       "layout": "IPY_MODEL_edf16e62957846efb3b32e03ca26c908",
       "style": "IPY_MODEL_986659905fd648028ced1e4b26df5469",
       "value": "  0%"
      }
     },
     "8442d566e030408b8dd57973bfccdbfb": {
      "model_module": "@jupyter-widgets/base",
      "model_module_version": "1.2.0",
      "model_name": "LayoutModel",
      "state": {}
     },
     "84c2c0a43e9b429ca105a6d8bdd08be2": {
      "model_module": "@jupyter-widgets/controls",
      "model_module_version": "1.5.0",
      "model_name": "DescriptionStyleModel",
      "state": {
       "description_width": ""
      }
     },
     "860ea1b2b8a44a5783c6dff770f55db9": {
      "model_module": "@jupyter-widgets/base",
      "model_module_version": "1.2.0",
      "model_name": "LayoutModel",
      "state": {}
     },
     "885bb4e5aeae4c629057c4e2e07774f9": {
      "model_module": "@jupyter-widgets/controls",
      "model_module_version": "1.5.0",
      "model_name": "FloatProgressModel",
      "state": {
       "bar_style": "success",
       "layout": "IPY_MODEL_da38539035364f9e89c509e4f1993a9a",
       "max": 1728,
       "style": "IPY_MODEL_ffc68cbe31ec4433ab26c608682c2b1d",
       "value": 1728
      }
     },
     "88df9e552e994a66954cc179d5dfc51b": {
      "model_module": "@jupyter-widgets/base",
      "model_module_version": "1.2.0",
      "model_name": "LayoutModel",
      "state": {}
     },
     "8a7aab08131240d48e46444e127608f4": {
      "model_module": "@jupyter-widgets/controls",
      "model_module_version": "1.5.0",
      "model_name": "HTMLModel",
      "state": {
       "layout": "IPY_MODEL_6d817ea622344f8187d3fa12e1b2a4b2",
       "style": "IPY_MODEL_0e187b9c5e5d4974a08ca29b83b2440e",
       "value": " 89%"
      }
     },
     "8b18dd6e0a624207a6e5315d58624cd4": {
      "model_module": "@jupyter-widgets/controls",
      "model_module_version": "1.5.0",
      "model_name": "HBoxModel",
      "state": {
       "children": [
        "IPY_MODEL_a9bfa4617ac545bb8d71cbf00483359b",
        "IPY_MODEL_54806bb0028e4776b3b0ac4bbfd7120e",
        "IPY_MODEL_04014ba2d4ff430aa41ee02006779ffe"
       ],
       "layout": "IPY_MODEL_9067cad68e954583a797afec0590d3d4"
      }
     },
     "8d921635f859400cbd97bc10f7d5eb91": {
      "model_module": "@jupyter-widgets/controls",
      "model_module_version": "1.5.0",
      "model_name": "HTMLModel",
      "state": {
       "layout": "IPY_MODEL_f73a69f8c05a4f918b804ffb9dbf1468",
       "style": "IPY_MODEL_4ec4faef07e04c8e8f66d26c2aa3689f",
       "value": " 13855/34246 [11:48&lt;5:11:40,  1.09it/s]"
      }
     },
     "8e27309a53d540f3a92939ce213e9c8b": {
      "model_module": "@jupyter-widgets/base",
      "model_module_version": "1.2.0",
      "model_name": "LayoutModel",
      "state": {}
     },
     "8edb947b482e44b48a0f7091cb2661b8": {
      "model_module": "@jupyter-widgets/controls",
      "model_module_version": "1.5.0",
      "model_name": "ProgressStyleModel",
      "state": {
       "description_width": ""
      }
     },
     "8f21e4b5b98f4bdc801e1dc4a7ee421c": {
      "model_module": "@jupyter-widgets/base",
      "model_module_version": "1.2.0",
      "model_name": "LayoutModel",
      "state": {}
     },
     "8fffcf38de5f426791f3817688ea787b": {
      "model_module": "@jupyter-widgets/controls",
      "model_module_version": "1.5.0",
      "model_name": "ProgressStyleModel",
      "state": {
       "description_width": ""
      }
     },
     "9067cad68e954583a797afec0590d3d4": {
      "model_module": "@jupyter-widgets/base",
      "model_module_version": "1.2.0",
      "model_name": "LayoutModel",
      "state": {}
     },
     "90f939fcee4444b990777a9a3946b851": {
      "model_module": "@jupyter-widgets/controls",
      "model_module_version": "1.5.0",
      "model_name": "HTMLModel",
      "state": {
       "layout": "IPY_MODEL_5e9252c2de874993bed84d7a63ccf5f7",
       "style": "IPY_MODEL_2923724c8036444eb90ec9c676bc6d2f",
       "value": " 30529/34246 [01:10&lt;00:02, 1570.20it/s]"
      }
     },
     "942d608959c74903b65cc0d8b39ba73a": {
      "model_module": "@jupyter-widgets/controls",
      "model_module_version": "1.5.0",
      "model_name": "HBoxModel",
      "state": {
       "children": [
        "IPY_MODEL_bd61718e182b44deaf7563efc4fb9476",
        "IPY_MODEL_c922ad73ffb54ca292b56d27a88cfb7d",
        "IPY_MODEL_c8401f6af4c04ce696731bd64c353e3d"
       ],
       "layout": "IPY_MODEL_009fdca3098b43a2bad12149a7dad5b3"
      }
     },
     "9556ddc6230e4163a585a42cb54446eb": {
      "model_module": "@jupyter-widgets/controls",
      "model_module_version": "1.5.0",
      "model_name": "FloatProgressModel",
      "state": {
       "bar_style": "danger",
       "layout": "IPY_MODEL_6b9256ad841a44578174258f228fa06d",
       "max": 34246,
       "style": "IPY_MODEL_444399f94f7d48af8d494380271080a5",
       "value": 30529
      }
     },
     "98074e2844c544fb934d58bceee27972": {
      "model_module": "@jupyter-widgets/controls",
      "model_module_version": "1.5.0",
      "model_name": "DescriptionStyleModel",
      "state": {
       "description_width": ""
      }
     },
     "986659905fd648028ced1e4b26df5469": {
      "model_module": "@jupyter-widgets/controls",
      "model_module_version": "1.5.0",
      "model_name": "DescriptionStyleModel",
      "state": {
       "description_width": ""
      }
     },
     "99c47dbcd70a4484b417a066aa11f86e": {
      "model_module": "@jupyter-widgets/controls",
      "model_module_version": "1.5.0",
      "model_name": "FloatProgressModel",
      "state": {
       "bar_style": "danger",
       "layout": "IPY_MODEL_ecb5ff1bcc564e22bb734010ece0703c",
       "max": 34246,
       "style": "IPY_MODEL_8edb947b482e44b48a0f7091cb2661b8",
       "value": 14537
      }
     },
     "9d53faf7cf5e4b78bb2df6a9a71a04bb": {
      "model_module": "@jupyter-widgets/controls",
      "model_module_version": "1.5.0",
      "model_name": "HTMLModel",
      "state": {
       "layout": "IPY_MODEL_7cb318fce0824a349615935fe96bf60c",
       "style": "IPY_MODEL_2b0235ead38c421baf1ce996ecb1ce58",
       "value": " 96%"
      }
     },
     "9ebb2f805fb14cc496166efed66d7698": {
      "model_module": "@jupyter-widgets/base",
      "model_module_version": "1.2.0",
      "model_name": "LayoutModel",
      "state": {}
     },
     "a04fbde924714c9193b198701fc9da3b": {
      "model_module": "@jupyter-widgets/controls",
      "model_module_version": "1.5.0",
      "model_name": "ProgressStyleModel",
      "state": {
       "description_width": ""
      }
     },
     "a0fbcb7be0ff4596a6a1677b8557800d": {
      "model_module": "@jupyter-widgets/base",
      "model_module_version": "1.2.0",
      "model_name": "LayoutModel",
      "state": {}
     },
     "a17ce83ad07947d4846f10cb8b3d13f4": {
      "model_module": "@jupyter-widgets/controls",
      "model_module_version": "1.5.0",
      "model_name": "ProgressStyleModel",
      "state": {
       "description_width": ""
      }
     },
     "a381f37e316a4635a7402629a1ee7e7f": {
      "model_module": "@jupyter-widgets/controls",
      "model_module_version": "1.5.0",
      "model_name": "HBoxModel",
      "state": {
       "children": [
        "IPY_MODEL_d41c45054fa3424cb280908e852c9243",
        "IPY_MODEL_ed7ab2f16ed445dba881d07adc126bba",
        "IPY_MODEL_5783c0083a5949d2bcf934258d8abaeb"
       ],
       "layout": "IPY_MODEL_6bf1f03aae864b1694271e264cce43fe"
      }
     },
     "a45cf802da8241f780ec64fcac12df6f": {
      "model_module": "@jupyter-widgets/controls",
      "model_module_version": "1.5.0",
      "model_name": "HTMLModel",
      "state": {
       "layout": "IPY_MODEL_44907a8523304dfe892ca94989165366",
       "style": "IPY_MODEL_4653a202f503440d997285730db82f7b",
       "value": " 89%"
      }
     },
     "a5efae0862ea477787d1433b6fcf277c": {
      "model_module": "@jupyter-widgets/base",
      "model_module_version": "1.2.0",
      "model_name": "LayoutModel",
      "state": {}
     },
     "a61b14fa7f9140a3931413c5cf555ab7": {
      "model_module": "@jupyter-widgets/controls",
      "model_module_version": "1.5.0",
      "model_name": "HTMLModel",
      "state": {
       "layout": "IPY_MODEL_17d2cb5eabf24d498f30fc4c6051760c",
       "style": "IPY_MODEL_b8474032a56e446da6a9e9b7e24362b7",
       "value": " 14537/34246 [00:08&lt;00:01, 18581.75it/s]"
      }
     },
     "a6f4978602f343a38ce362b09f57fa58": {
      "model_module": "@jupyter-widgets/controls",
      "model_module_version": "1.5.0",
      "model_name": "HBoxModel",
      "state": {
       "children": [
        "IPY_MODEL_4f5def6832f646b7b15aa900644f5633",
        "IPY_MODEL_7049e625b2bb4006b05261907646a52b",
        "IPY_MODEL_0fdcf17b00e74a309d43c84cb9b66de4"
       ],
       "layout": "IPY_MODEL_be8d39993b484dbbb510258253e4f447"
      }
     },
     "a9bfa4617ac545bb8d71cbf00483359b": {
      "model_module": "@jupyter-widgets/controls",
      "model_module_version": "1.5.0",
      "model_name": "HTMLModel",
      "state": {
       "layout": "IPY_MODEL_88df9e552e994a66954cc179d5dfc51b",
       "style": "IPY_MODEL_8056f3208bd84d24882a6fdef43ed562",
       "value": " 42%"
      }
     },
     "aa1b4e5baded4701aa21945791c91c97": {
      "model_module": "@jupyter-widgets/controls",
      "model_module_version": "1.5.0",
      "model_name": "HTMLModel",
      "state": {
       "layout": "IPY_MODEL_4da28186492642d2a282001f8998507c",
       "style": "IPY_MODEL_24b31625ec4e42419ec17de52c27a6f8",
       "value": "100%"
      }
     },
     "aa45811c6c734cc2b72d0d59efa18ec0": {
      "model_module": "@jupyter-widgets/controls",
      "model_module_version": "1.5.0",
      "model_name": "DescriptionStyleModel",
      "state": {
       "description_width": ""
      }
     },
     "aab8d952aca94513a5f4a756cde0d33e": {
      "model_module": "@jupyter-widgets/controls",
      "model_module_version": "1.5.0",
      "model_name": "HBoxModel",
      "state": {
       "children": [
        "IPY_MODEL_2a1b324da5de4d4fb3ef3877246f3672",
        "IPY_MODEL_64fda8661ca4404dad7150b56aa0d3a0",
        "IPY_MODEL_8d921635f859400cbd97bc10f7d5eb91"
       ],
       "layout": "IPY_MODEL_cc6a640109574cc5a705074bdcba3c5f"
      }
     },
     "ac74eb53eff74ef29465a3b236ec3252": {
      "model_module": "@jupyter-widgets/controls",
      "model_module_version": "1.5.0",
      "model_name": "HTMLModel",
      "state": {
       "layout": "IPY_MODEL_656d139a9332436aba889970ff6b850b",
       "style": "IPY_MODEL_1227cf71288348a0a11962ce13271acf",
       "value": " 0/1728 [00:00&lt;?, ?it/s]"
      }
     },
     "ac7daf81032142e390010a0d35941ed0": {
      "model_module": "@jupyter-widgets/controls",
      "model_module_version": "1.5.0",
      "model_name": "ProgressStyleModel",
      "state": {
       "description_width": ""
      }
     },
     "ad6e64aa582e4da9b2dd3fedc01b16f5": {
      "model_module": "@jupyter-widgets/base",
      "model_module_version": "1.2.0",
      "model_name": "LayoutModel",
      "state": {}
     },
     "aff74d76bc044ae88a9639bca0676f86": {
      "model_module": "@jupyter-widgets/controls",
      "model_module_version": "1.5.0",
      "model_name": "DescriptionStyleModel",
      "state": {
       "description_width": ""
      }
     },
     "b0ae564a0f6640a49b0945f65ac32496": {
      "model_module": "@jupyter-widgets/controls",
      "model_module_version": "1.5.0",
      "model_name": "HBoxModel",
      "state": {
       "children": [
        "IPY_MODEL_9d53faf7cf5e4b78bb2df6a9a71a04bb",
        "IPY_MODEL_79a6e1ab4771485796559c3655cef4fe",
        "IPY_MODEL_4e41785d71b5493f8a22749e1681cd70"
       ],
       "layout": "IPY_MODEL_070e7fd8b3c04407ac21b81be5d79211"
      }
     },
     "b1e8d167d5184467a99a2000d4856bf3": {
      "model_module": "@jupyter-widgets/base",
      "model_module_version": "1.2.0",
      "model_name": "LayoutModel",
      "state": {}
     },
     "b2170ac972c649e5a0e6182987dffbaa": {
      "model_module": "@jupyter-widgets/base",
      "model_module_version": "1.2.0",
      "model_name": "LayoutModel",
      "state": {}
     },
     "b3d0959ea31947f1b088e1fba40da87b": {
      "model_module": "@jupyter-widgets/base",
      "model_module_version": "1.2.0",
      "model_name": "LayoutModel",
      "state": {}
     },
     "b50726f787d546789e492d238ae0e16e": {
      "model_module": "@jupyter-widgets/base",
      "model_module_version": "1.2.0",
      "model_name": "LayoutModel",
      "state": {}
     },
     "b5d6dcaacf4c4daf943b15e17dd696df": {
      "model_module": "@jupyter-widgets/base",
      "model_module_version": "1.2.0",
      "model_name": "LayoutModel",
      "state": {}
     },
     "b8474032a56e446da6a9e9b7e24362b7": {
      "model_module": "@jupyter-widgets/controls",
      "model_module_version": "1.5.0",
      "model_name": "DescriptionStyleModel",
      "state": {
       "description_width": ""
      }
     },
     "b8ae37c2001f490283575aa74ff20a39": {
      "model_module": "@jupyter-widgets/controls",
      "model_module_version": "1.5.0",
      "model_name": "DescriptionStyleModel",
      "state": {
       "description_width": ""
      }
     },
     "b9d8e031685144a088de5cb0d01e808b": {
      "model_module": "@jupyter-widgets/controls",
      "model_module_version": "1.5.0",
      "model_name": "FloatProgressModel",
      "state": {
       "bar_style": "danger",
       "layout": "IPY_MODEL_d6a1e168bf4a47cc9652b88aecfabb8f",
       "max": 34246,
       "style": "IPY_MODEL_c48a52f6020f4e748e80a7d5a1acedb7",
       "value": 30501
      }
     },
     "bacc085f3bf045918c7cb951e38d5b93": {
      "model_module": "@jupyter-widgets/controls",
      "model_module_version": "1.5.0",
      "model_name": "DescriptionStyleModel",
      "state": {
       "description_width": ""
      }
     },
     "bc29e95f012c4fdfb752ab88e397b0c4": {
      "model_module": "@jupyter-widgets/controls",
      "model_module_version": "1.5.0",
      "model_name": "DescriptionStyleModel",
      "state": {
       "description_width": ""
      }
     },
     "bc84bab33a364382a4c699dc44749133": {
      "model_module": "@jupyter-widgets/base",
      "model_module_version": "1.2.0",
      "model_name": "LayoutModel",
      "state": {}
     },
     "bd0d81e9bc5d4acdb6beb162069ef8b4": {
      "model_module": "@jupyter-widgets/controls",
      "model_module_version": "1.5.0",
      "model_name": "DescriptionStyleModel",
      "state": {
       "description_width": ""
      }
     },
     "bd22f41b0f754f0c95aa8067846ade0a": {
      "model_module": "@jupyter-widgets/controls",
      "model_module_version": "1.5.0",
      "model_name": "HTMLModel",
      "state": {
       "layout": "IPY_MODEL_e21759e8c0c447f5b35b88dc2425a732",
       "style": "IPY_MODEL_db16df5c5b1c4d7989375fd01b218211",
       "value": " 1/1728 [00:00&lt;00:36, 46.99it/s]"
      }
     },
     "bd61718e182b44deaf7563efc4fb9476": {
      "model_module": "@jupyter-widgets/controls",
      "model_module_version": "1.5.0",
      "model_name": "HTMLModel",
      "state": {
       "layout": "IPY_MODEL_d1bd7e5547df4c409ec8805b191141bd",
       "style": "IPY_MODEL_e3e3d6fdd86040b79321d67ae2e1284d"
      }
     },
     "be8d39993b484dbbb510258253e4f447": {
      "model_module": "@jupyter-widgets/base",
      "model_module_version": "1.2.0",
      "model_name": "LayoutModel",
      "state": {}
     },
     "c37e0a5315974bb4a4242ae5b4bc1343": {
      "model_module": "@jupyter-widgets/controls",
      "model_module_version": "1.5.0",
      "model_name": "DescriptionStyleModel",
      "state": {
       "description_width": ""
      }
     },
     "c48a52f6020f4e748e80a7d5a1acedb7": {
      "model_module": "@jupyter-widgets/controls",
      "model_module_version": "1.5.0",
      "model_name": "ProgressStyleModel",
      "state": {
       "description_width": ""
      }
     },
     "c5fed2cb277d46a18fbfad73c4d0e624": {
      "model_module": "@jupyter-widgets/controls",
      "model_module_version": "1.5.0",
      "model_name": "FloatProgressModel",
      "state": {
       "bar_style": "danger",
       "layout": "IPY_MODEL_11e5180eb0fb4ca08b040c62f3bdb51a",
       "max": 34246,
       "style": "IPY_MODEL_2d8b43e4dbc14e4293f600315976c044",
       "value": 30528
      }
     },
     "c674812c03ee48b49a8032ec5d7c7350": {
      "model_module": "@jupyter-widgets/controls",
      "model_module_version": "1.5.0",
      "model_name": "ProgressStyleModel",
      "state": {
       "description_width": ""
      }
     },
     "c8401f6af4c04ce696731bd64c353e3d": {
      "model_module": "@jupyter-widgets/controls",
      "model_module_version": "1.5.0",
      "model_name": "HTMLModel",
      "state": {
       "layout": "IPY_MODEL_6f57b51c12dc4230a7fb5675b68e6074",
       "style": "IPY_MODEL_bd0d81e9bc5d4acdb6beb162069ef8b4",
       "value": " 53/? [00:33&lt;00:00, 23.06s/it]"
      }
     },
     "c9034f4495fa48129d149f50d3ba6282": {
      "model_module": "@jupyter-widgets/base",
      "model_module_version": "1.2.0",
      "model_name": "LayoutModel",
      "state": {}
     },
     "c922ad73ffb54ca292b56d27a88cfb7d": {
      "model_module": "@jupyter-widgets/controls",
      "model_module_version": "1.5.0",
      "model_name": "FloatProgressModel",
      "state": {
       "bar_style": "success",
       "layout": "IPY_MODEL_46e3a08f575f43b3a28b1a4d97cfa664",
       "max": 1,
       "style": "IPY_MODEL_e325d7de51324281980e94eb69122645",
       "value": 1
      }
     },
     "cadb4a444d074bcca46110717f4956fd": {
      "model_module": "@jupyter-widgets/controls",
      "model_module_version": "1.5.0",
      "model_name": "FloatProgressModel",
      "state": {
       "bar_style": "danger",
       "layout": "IPY_MODEL_db98901c62e543f2b48a88a201d2e7c6",
       "max": 34246,
       "style": "IPY_MODEL_09c5fb5f49ac460bacc1d0e486eafe09",
       "value": 30518
      }
     },
     "cc6a640109574cc5a705074bdcba3c5f": {
      "model_module": "@jupyter-widgets/base",
      "model_module_version": "1.2.0",
      "model_name": "LayoutModel",
      "state": {}
     },
     "cd5c89deeb714fe3a309be3ed97dbf43": {
      "model_module": "@jupyter-widgets/controls",
      "model_module_version": "1.5.0",
      "model_name": "HTMLModel",
      "state": {
       "layout": "IPY_MODEL_a5efae0862ea477787d1433b6fcf277c",
       "style": "IPY_MODEL_e98460fc9d3d4380a175c2ccbea2f4a6",
       "value": " 0/1728 [00:00&lt;?, ?it/s]"
      }
     },
     "d12c3918355a4eef9effa757fbf4f6e7": {
      "model_module": "@jupyter-widgets/controls",
      "model_module_version": "1.5.0",
      "model_name": "DescriptionStyleModel",
      "state": {
       "description_width": ""
      }
     },
     "d1bd7e5547df4c409ec8805b191141bd": {
      "model_module": "@jupyter-widgets/base",
      "model_module_version": "1.2.0",
      "model_name": "LayoutModel",
      "state": {}
     },
     "d41c45054fa3424cb280908e852c9243": {
      "model_module": "@jupyter-widgets/controls",
      "model_module_version": "1.5.0",
      "model_name": "HTMLModel",
      "state": {
       "layout": "IPY_MODEL_0a54e527a4bb41bda8a56945ad926087",
       "style": "IPY_MODEL_c37e0a5315974bb4a4242ae5b4bc1343",
       "value": " 42%"
      }
     },
     "d4a6dafe7c6f43e882a7faa52c890754": {
      "model_module": "@jupyter-widgets/controls",
      "model_module_version": "1.5.0",
      "model_name": "DescriptionStyleModel",
      "state": {
       "description_width": ""
      }
     },
     "d6a1e168bf4a47cc9652b88aecfabb8f": {
      "model_module": "@jupyter-widgets/base",
      "model_module_version": "1.2.0",
      "model_name": "LayoutModel",
      "state": {}
     },
     "d8325ea2ea46496391bef3a9941ffd97": {
      "model_module": "@jupyter-widgets/controls",
      "model_module_version": "1.5.0",
      "model_name": "FloatProgressModel",
      "state": {
       "bar_style": "danger",
       "layout": "IPY_MODEL_ff5a584d913d4a01b22f4c634d0589c2",
       "max": 34246,
       "style": "IPY_MODEL_8fffcf38de5f426791f3817688ea787b",
       "value": 30519
      }
     },
     "d98a4ca5abc44cdfb963792140b980e9": {
      "model_module": "@jupyter-widgets/base",
      "model_module_version": "1.2.0",
      "model_name": "LayoutModel",
      "state": {}
     },
     "d9a76ddd8480485badb5a180da6f7a2b": {
      "model_module": "@jupyter-widgets/base",
      "model_module_version": "1.2.0",
      "model_name": "LayoutModel",
      "state": {}
     },
     "d9ffa67fa2c74378a9af232ecccb39e6": {
      "model_module": "@jupyter-widgets/controls",
      "model_module_version": "1.5.0",
      "model_name": "ProgressStyleModel",
      "state": {
       "description_width": ""
      }
     },
     "da38539035364f9e89c509e4f1993a9a": {
      "model_module": "@jupyter-widgets/base",
      "model_module_version": "1.2.0",
      "model_name": "LayoutModel",
      "state": {}
     },
     "db16df5c5b1c4d7989375fd01b218211": {
      "model_module": "@jupyter-widgets/controls",
      "model_module_version": "1.5.0",
      "model_name": "DescriptionStyleModel",
      "state": {
       "description_width": ""
      }
     },
     "db98901c62e543f2b48a88a201d2e7c6": {
      "model_module": "@jupyter-widgets/base",
      "model_module_version": "1.2.0",
      "model_name": "LayoutModel",
      "state": {}
     },
     "dc61786279fa4ede8beff5b488fdd9f5": {
      "model_module": "@jupyter-widgets/base",
      "model_module_version": "1.2.0",
      "model_name": "LayoutModel",
      "state": {}
     },
     "dd9541ba2ddb4b44b41b13d8ccccbb25": {
      "model_module": "@jupyter-widgets/base",
      "model_module_version": "1.2.0",
      "model_name": "LayoutModel",
      "state": {}
     },
     "deabc9bca1f24df78accf12be21d9c3f": {
      "model_module": "@jupyter-widgets/base",
      "model_module_version": "1.2.0",
      "model_name": "LayoutModel",
      "state": {}
     },
     "e1288a75862d4b38a19bbfe0d98ed124": {
      "model_module": "@jupyter-widgets/base",
      "model_module_version": "1.2.0",
      "model_name": "LayoutModel",
      "state": {}
     },
     "e21759e8c0c447f5b35b88dc2425a732": {
      "model_module": "@jupyter-widgets/base",
      "model_module_version": "1.2.0",
      "model_name": "LayoutModel",
      "state": {}
     },
     "e229c96d207548bb81064343adf7f129": {
      "model_module": "@jupyter-widgets/controls",
      "model_module_version": "1.5.0",
      "model_name": "DescriptionStyleModel",
      "state": {
       "description_width": ""
      }
     },
     "e325d7de51324281980e94eb69122645": {
      "model_module": "@jupyter-widgets/controls",
      "model_module_version": "1.5.0",
      "model_name": "ProgressStyleModel",
      "state": {
       "description_width": ""
      }
     },
     "e3e3d6fdd86040b79321d67ae2e1284d": {
      "model_module": "@jupyter-widgets/controls",
      "model_module_version": "1.5.0",
      "model_name": "DescriptionStyleModel",
      "state": {
       "description_width": ""
      }
     },
     "e75abefcf138481198e8b4c3902f32cc": {
      "model_module": "@jupyter-widgets/base",
      "model_module_version": "1.2.0",
      "model_name": "LayoutModel",
      "state": {}
     },
     "e98460fc9d3d4380a175c2ccbea2f4a6": {
      "model_module": "@jupyter-widgets/controls",
      "model_module_version": "1.5.0",
      "model_name": "DescriptionStyleModel",
      "state": {
       "description_width": ""
      }
     },
     "e9923a39b1da4af1b3ecdb7df2df9ed8": {
      "model_module": "@jupyter-widgets/controls",
      "model_module_version": "1.5.0",
      "model_name": "ProgressStyleModel",
      "state": {
       "description_width": ""
      }
     },
     "ea3c437bc08f4ae8b8d914d2443ee07a": {
      "model_module": "@jupyter-widgets/controls",
      "model_module_version": "1.5.0",
      "model_name": "HTMLModel",
      "state": {
       "layout": "IPY_MODEL_ad6e64aa582e4da9b2dd3fedc01b16f5",
       "style": "IPY_MODEL_032ab63ec6cd4401965982a69c8211bd",
       "value": " 42%"
      }
     },
     "ea66d949c4af4658846fbed3f6b6d7cb": {
      "model_module": "@jupyter-widgets/controls",
      "model_module_version": "1.5.0",
      "model_name": "DescriptionStyleModel",
      "state": {
       "description_width": ""
      }
     },
     "ecb5ff1bcc564e22bb734010ece0703c": {
      "model_module": "@jupyter-widgets/base",
      "model_module_version": "1.2.0",
      "model_name": "LayoutModel",
      "state": {}
     },
     "ed7ab2f16ed445dba881d07adc126bba": {
      "model_module": "@jupyter-widgets/controls",
      "model_module_version": "1.5.0",
      "model_name": "FloatProgressModel",
      "state": {
       "bar_style": "danger",
       "layout": "IPY_MODEL_fa443881e0bc4ceca90cef8e226d20c5",
       "max": 34246,
       "style": "IPY_MODEL_ac7daf81032142e390010a0d35941ed0",
       "value": 14337
      }
     },
     "edf16e62957846efb3b32e03ca26c908": {
      "model_module": "@jupyter-widgets/base",
      "model_module_version": "1.2.0",
      "model_name": "LayoutModel",
      "state": {}
     },
     "eea0a6ecc27744dfbee641117c604aed": {
      "model_module": "@jupyter-widgets/base",
      "model_module_version": "1.2.0",
      "model_name": "LayoutModel",
      "state": {}
     },
     "ef098dea618d47b395895a0607557f63": {
      "model_module": "@jupyter-widgets/controls",
      "model_module_version": "1.5.0",
      "model_name": "ProgressStyleModel",
      "state": {
       "description_width": ""
      }
     },
     "f0568ab3b7414eb38d9ddb905f0f853e": {
      "model_module": "@jupyter-widgets/controls",
      "model_module_version": "1.5.0",
      "model_name": "HBoxModel",
      "state": {
       "children": [
        "IPY_MODEL_fa76019a94664ecfbef480078bee7c0e",
        "IPY_MODEL_f594d1d94d3a4b928e344cc0818949f4",
        "IPY_MODEL_ac74eb53eff74ef29465a3b236ec3252"
       ],
       "layout": "IPY_MODEL_61c0c3de25624625ac1ebca5aed1c041"
      }
     },
     "f131a07aad7047809ea5d99b110b7b9d": {
      "model_module": "@jupyter-widgets/controls",
      "model_module_version": "1.5.0",
      "model_name": "HBoxModel",
      "state": {
       "children": [
        "IPY_MODEL_83eae099125e4183a65f39f0ee3e47ed",
        "IPY_MODEL_f988aff8f52944c3b60499cab5e06dc6",
        "IPY_MODEL_bd22f41b0f754f0c95aa8067846ade0a"
       ],
       "layout": "IPY_MODEL_8266b587c83f4b4392a7e7b8713f27c5"
      }
     },
     "f594d1d94d3a4b928e344cc0818949f4": {
      "model_module": "@jupyter-widgets/controls",
      "model_module_version": "1.5.0",
      "model_name": "FloatProgressModel",
      "state": {
       "bar_style": "danger",
       "layout": "IPY_MODEL_6258beff812347fe8f793cff97fd41fe",
       "max": 1728,
       "style": "IPY_MODEL_317121c6503e4bcc861b6cf820620342"
      }
     },
     "f5f7e1f81180432899bfc70e5d5b5cd3": {
      "model_module": "@jupyter-widgets/base",
      "model_module_version": "1.2.0",
      "model_name": "LayoutModel",
      "state": {}
     },
     "f6c65fcd6dea417abfd00bbf08dc9cbe": {
      "model_module": "@jupyter-widgets/controls",
      "model_module_version": "1.5.0",
      "model_name": "HTMLModel",
      "state": {
       "layout": "IPY_MODEL_dc61786279fa4ede8beff5b488fdd9f5",
       "style": "IPY_MODEL_84c2c0a43e9b429ca105a6d8bdd08be2",
       "value": "  0%"
      }
     },
     "f73a69f8c05a4f918b804ffb9dbf1468": {
      "model_module": "@jupyter-widgets/base",
      "model_module_version": "1.2.0",
      "model_name": "LayoutModel",
      "state": {}
     },
     "f7c1cb8bfcb44670bee66dd6c57ae182": {
      "model_module": "@jupyter-widgets/controls",
      "model_module_version": "1.5.0",
      "model_name": "DescriptionStyleModel",
      "state": {
       "description_width": ""
      }
     },
     "f8ba867f81ba423ea7bd588ed0b2e566": {
      "model_module": "@jupyter-widgets/controls",
      "model_module_version": "1.5.0",
      "model_name": "DescriptionStyleModel",
      "state": {
       "description_width": ""
      }
     },
     "f988aff8f52944c3b60499cab5e06dc6": {
      "model_module": "@jupyter-widgets/controls",
      "model_module_version": "1.5.0",
      "model_name": "FloatProgressModel",
      "state": {
       "bar_style": "danger",
       "layout": "IPY_MODEL_8442d566e030408b8dd57973bfccdbfb",
       "max": 1728,
       "style": "IPY_MODEL_d9ffa67fa2c74378a9af232ecccb39e6",
       "value": 1
      }
     },
     "fa443881e0bc4ceca90cef8e226d20c5": {
      "model_module": "@jupyter-widgets/base",
      "model_module_version": "1.2.0",
      "model_name": "LayoutModel",
      "state": {}
     },
     "fa76019a94664ecfbef480078bee7c0e": {
      "model_module": "@jupyter-widgets/controls",
      "model_module_version": "1.5.0",
      "model_name": "HTMLModel",
      "state": {
       "layout": "IPY_MODEL_a0fbcb7be0ff4596a6a1677b8557800d",
       "style": "IPY_MODEL_bc29e95f012c4fdfb752ab88e397b0c4",
       "value": "  0%"
      }
     },
     "faff3245d9bf43b29e0119d31710db62": {
      "model_module": "@jupyter-widgets/controls",
      "model_module_version": "1.5.0",
      "model_name": "ProgressStyleModel",
      "state": {
       "description_width": ""
      }
     },
     "ff427d23f1eb41798c6c74ab9310d4da": {
      "model_module": "@jupyter-widgets/controls",
      "model_module_version": "1.5.0",
      "model_name": "DescriptionStyleModel",
      "state": {
       "description_width": ""
      }
     },
     "ff5a584d913d4a01b22f4c634d0589c2": {
      "model_module": "@jupyter-widgets/base",
      "model_module_version": "1.2.0",
      "model_name": "LayoutModel",
      "state": {}
     },
     "ffc68cbe31ec4433ab26c608682c2b1d": {
      "model_module": "@jupyter-widgets/controls",
      "model_module_version": "1.5.0",
      "model_name": "ProgressStyleModel",
      "state": {
       "description_width": ""
      }
     }
    },
    "version_major": 2,
    "version_minor": 0
   }
  }
 },
 "nbformat": 4,
 "nbformat_minor": 5
}
