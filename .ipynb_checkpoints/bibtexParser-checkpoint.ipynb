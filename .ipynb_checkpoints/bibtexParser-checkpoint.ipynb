{
 "cells": [
  {
   "cell_type": "code",
   "execution_count": 1,
   "id": "ceec8bee-0c91-4921-9aed-937442baf2db",
   "metadata": {},
   "outputs": [],
   "source": [
    "import configparser"
   ]
  },
  {
   "cell_type": "code",
   "execution_count": 76,
   "id": "9ae64b4f-1c6c-453a-8fb2-8f8634a3ebac",
   "metadata": {},
   "outputs": [],
   "source": [
    "import re"
   ]
  },
  {
   "cell_type": "code",
   "execution_count": 280,
   "id": "a22331fc-7db1-4021-b3fe-ec978ec01fde",
   "metadata": {},
   "outputs": [],
   "source": [
    "pat = re.compile('@[\\w]+{[\\s\\S]+}*?')"
   ]
  },
  {
   "cell_type": "code",
   "execution_count": 281,
   "id": "be4cf833-64aa-4b24-9b46-7d66a508f992",
   "metadata": {},
   "outputs": [],
   "source": [
    "with open('sci_clone/bib.bib', 'r') as file:\n",
    "    r = pat.findall(file.read())"
   ]
  },
  {
   "cell_type": "code",
   "execution_count": 282,
   "id": "507cb7cc-e866-49e7-b4fd-22080ed11fd3",
   "metadata": {},
   "outputs": [
    {
     "name": "stdout",
     "output_type": "stream",
     "text": [
      "@book{texbook,\n",
      "  author = {Donald E. Knuth},\n",
      "  year = {1986},\n",
      "  title = {The \\TeX{} Book},\n",
      "  publisher = {Addison-Wesley Professional}\n",
      "}\n",
      "\n",
      "@book{latex:companion,\n",
      "  author = {Frank Mittelbach and Michel Gossens\n",
      "            and Johannes Braams and David Carlisle\n",
      "            and Chris Rowley},\n",
      "  year = {2004},\n",
      "  title = {The \\LaTeX{} Companion},\n",
      "  publisher = {Addison-Wesley Professional},\n",
      "  edition = {2}\n",
      "}\n",
      "\n",
      "@book{latex2e,\n",
      "  author = {Leslie Lamport},\n",
      "  year = {1994},\n",
      "  title = {\\LaTeX: a Document Preparation System},\n",
      "  publisher = {Addison Wesley},\n",
      "  address = {Massachusetts},\n",
      "  edition = {2}\n",
      "}\n",
      "\n",
      "@article{knuth:1984,\n",
      "  title={Literate Programming},\n",
      "  author={Donald E. Knuth},\n",
      "  journal={The Computer Journal},\n",
      "  volume={27},\n",
      "  number={2},\n",
      "  pages={97--111},\n",
      "  year={1984},\n",
      "  publisher={Oxford University Press}\n",
      "}\n",
      "\n",
      "@inproceedings{lesk:1977,\n",
      "  title={Computer Typesetting of Technical Journals on {UNIX}},\n",
      "  author={Michael Lesk and Brian Kernighan},\n",
      "  booktitle={Proceedings of American Federation of\n",
      "             Information Processing Societies: 1977\n",
      "             National Computer Conference},\n",
      "  pages={879--888},\n",
      "  year={1977},\n",
      "  address={Dallas, Texas}\n",
      "}\n",
      "++++++++++++++\n"
     ]
    }
   ],
   "source": [
    "for i in r:\n",
    "    print(i, end='\\n++++++++++++++\\n')"
   ]
  },
  {
   "cell_type": "code",
   "execution_count": 237,
   "id": "694ff1e0-ce5c-4e61-9bd8-137b564045df",
   "metadata": {},
   "outputs": [
    {
     "data": {
      "text/plain": [
       "'@book{texbook,\\n  author = {Donald E. Knuth},\\n  year = {1986},\\n  title = {The \\\\TeX{} Book},\\n  publisher = {Addison-Wesley Professional}\\n}\\n\\n@book{latex:companion,\\n  author = {Frank Mittelbach and Michel Gossens\\n            and Johannes Braams and David Carlisle\\n            and Chris Rowley},\\n  year = {2004},\\n  title = {The \\\\LaTeX{} Companion},\\n  publisher = {Addison-Wesley Professional},\\n  edition = {2}\\n}\\n\\n@book{latex2e,\\n  author = {Leslie Lamport},\\n  year = {1994},\\n  title = {\\\\LaTeX: a Document Preparation System},\\n  publisher = {Addison Wesley},\\n  address = {Massachusetts},\\n  edition = {2}\\n}\\n\\n@article{knuth:1984,\\n  title={Literate Programming},\\n  author={Donald E. Knuth},\\n  journal={The Computer Journal},\\n  volume={27},\\n  number={2},\\n  pages={97--111},\\n  year={1984},\\n  publisher={Oxford University Press}\\n}\\n\\n@inproceedings{lesk:1977,\\n  title={Computer Typesetting of Technical Journals on {UNIX}},\\n  author={Michael Lesk and Brian Kernighan},\\n  booktitle={Proceedings of American Federation of\\n             Information Processing Societies: 1977\\n             National Computer Conference},\\n  pages={879--888},\\n  year={1977},\\n  address={Dallas, Texas}\\n}'"
      ]
     },
     "execution_count": 237,
     "metadata": {},
     "output_type": "execute_result"
    }
   ],
   "source": [
    "open('sci_clone/bib.bib', 'r').read()"
   ]
  },
  {
   "cell_type": "code",
   "execution_count": 74,
   "id": "3aed7217-175f-4e79-a745-88cd841275a4",
   "metadata": {},
   "outputs": [],
   "source": [
    "def parseBibTex(file):\n",
    "    for line in open(file, 'r').readlines():\n",
    "        item = line if line.startswith('@') else item + line\n",
    "        if line.startswith('}'):\n",
    "            bibtex = configparser.ConfigParser(allow_no_value=True)\n",
    "            bibtex.read_string('[item]' + item.rstrip('}\\n'))\n",
    "            bibtex['item']['cate'] = item.split(',')[0].split('{')[0].lstrip('@')\n",
    "            bibtex['item']['citekey'] = item.split(',')[0].split('{')[1]\n",
    "            for key in bibtex['item']:\n",
    "                value = bibtex['item'][key]\n",
    "                print(value)\n",
    "                if value.startswith(\"{\") and value.endswith(('},', '}')):\n",
    "                    bibtex['item'][key] = value[1:] \n",
    "                bibtex['item'][key] = bibtex['item'][key].replace('\\n', ' ')\n",
    "            yield dict(bibtex.items('item'))"
   ]
  },
  {
   "cell_type": "code",
   "execution_count": 75,
   "id": "ff241b88-0f02-4f70-9923-9c2ad9fc9b4d",
   "metadata": {
    "tags": []
   },
   "outputs": [
    {
     "name": "stdout",
     "output_type": "stream",
     "text": [
      "{Donald E. Knuth},\n",
      "{1986},\n",
      "{The \\TeX{} Book},\n",
      "{Addison-Wesley Professional\n",
      "book\n",
      "texbook\n",
      "{Frank Mittelbach and Michel Gossens\n",
      "and Johannes Braams and David Carlisle\n",
      "and Chris Rowley},\n",
      "{2004},\n",
      "{The \\LaTeX{} Companion},\n",
      "{Addison-Wesley Professional},\n",
      "{2\n",
      "book\n",
      "latex:companion\n",
      "{Leslie Lamport},\n",
      "{1994},\n",
      "{\\LaTeX: a Document Preparation System},\n",
      "{Addison Wesley},\n",
      "{Massachusetts},\n",
      "{2\n",
      "book\n",
      "latex2e\n",
      "{Literate Programming},\n",
      "{Donald E. Knuth},\n",
      "{The Computer Journal},\n",
      "{27},\n",
      "{2},\n",
      "{97--111},\n",
      "{1984},\n",
      "{Oxford University Press\n",
      "article\n",
      "knuth:1984\n",
      "{Computer Typesetting of Technical Journals on {UNIX}},\n",
      "{Michael Lesk and Brian Kernighan},\n",
      "{Proceedings of American Federation of\n",
      "Information Processing Societies: 1977\n",
      "National Computer Conference},\n",
      "{879--888},\n",
      "{1977},\n",
      "{Dallas, Texas\n",
      "inproceedings\n",
      "lesk:1977\n"
     ]
    },
    {
     "data": {
      "text/plain": [
       "[{'author': 'Donald E. Knuth},',\n",
       "  'year': '1986},',\n",
       "  'title': 'The \\\\TeX{} Book},',\n",
       "  'publisher': '{Addison-Wesley Professional',\n",
       "  'cate': 'book',\n",
       "  'citekey': 'texbook'},\n",
       " {'author': 'Frank Mittelbach and Michel Gossens and Johannes Braams and David Carlisle and Chris Rowley},',\n",
       "  'year': '2004},',\n",
       "  'title': 'The \\\\LaTeX{} Companion},',\n",
       "  'publisher': 'Addison-Wesley Professional},',\n",
       "  'edition': '{2',\n",
       "  'cate': 'book',\n",
       "  'citekey': 'latex:companion'},\n",
       " {'author': 'Leslie Lamport},',\n",
       "  'year': '1994},',\n",
       "  'title': '\\\\LaTeX: a Document Preparation System},',\n",
       "  'publisher': 'Addison Wesley},',\n",
       "  'address': 'Massachusetts},',\n",
       "  'edition': '{2',\n",
       "  'cate': 'book',\n",
       "  'citekey': 'latex2e'},\n",
       " {'title': 'Literate Programming},',\n",
       "  'author': 'Donald E. Knuth},',\n",
       "  'journal': 'The Computer Journal},',\n",
       "  'volume': '27},',\n",
       "  'number': '2},',\n",
       "  'pages': '97--111},',\n",
       "  'year': '1984},',\n",
       "  'publisher': '{Oxford University Press',\n",
       "  'cate': 'article',\n",
       "  'citekey': 'knuth:1984'},\n",
       " {'title': 'Computer Typesetting of Technical Journals on {UNIX}},',\n",
       "  'author': 'Michael Lesk and Brian Kernighan},',\n",
       "  'booktitle': 'Proceedings of American Federation of Information Processing Societies: 1977 National Computer Conference},',\n",
       "  'pages': '879--888},',\n",
       "  'year': '1977},',\n",
       "  'address': '{Dallas, Texas',\n",
       "  'cate': 'inproceedings',\n",
       "  'citekey': 'lesk:1977'}]"
      ]
     },
     "execution_count": 75,
     "metadata": {},
     "output_type": "execute_result"
    }
   ],
   "source": [
    "list(parseBibTex('sci_clone/bib.bib'))"
   ]
  },
  {
   "cell_type": "code",
   "execution_count": null,
   "id": "f0f7cf9b-49cf-4ff0-ae41-5c5909ad4046",
   "metadata": {},
   "outputs": [],
   "source": []
  }
 ],
 "metadata": {
  "kernelspec": {
   "display_name": "Python_root *",
   "language": "python",
   "name": "conda-root-py"
  },
  "language_info": {
   "codemirror_mode": {
    "name": "ipython",
    "version": 3
   },
   "file_extension": ".py",
   "mimetype": "text/x-python",
   "name": "python",
   "nbconvert_exporter": "python",
   "pygments_lexer": "ipython3",
   "version": "3.9.7"
  }
 },
 "nbformat": 4,
 "nbformat_minor": 5
}
